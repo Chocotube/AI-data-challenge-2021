{
 "cells": [
  {
   "cell_type": "code",
   "execution_count": 1,
   "id": "resident-crazy",
   "metadata": {},
   "outputs": [
    {
     "name": "stdout",
     "output_type": "stream",
     "text": [
      "INFO:tensorflow:Enabling eager execution\n",
      "INFO:tensorflow:Enabling v2 tensorshape\n",
      "INFO:tensorflow:Enabling resource variables\n",
      "INFO:tensorflow:Enabling tensor equality\n",
      "INFO:tensorflow:Enabling control flow v2\n"
     ]
    }
   ],
   "source": [
    "import numpy as np\n",
    "import pandas as pd\n",
    "\n",
    "import matplotlib.pyplot as plt\n",
    "\n",
    "import tensorflow as tf\n",
    "\n",
    "from torch import nn\n",
    "import torch\n",
    "from torch.utils.data import Dataset, DataLoader\n",
    "\n",
    "from sklearn.metrics import accuracy_score, ConfusionMatrixDisplay, confusion_matrix"
   ]
  },
  {
   "cell_type": "markdown",
   "id": "uniform-passport",
   "metadata": {},
   "source": [
    "# UTILS"
   ]
  },
  {
   "cell_type": "code",
   "execution_count": 2,
   "id": "sealed-damage",
   "metadata": {},
   "outputs": [],
   "source": [
    "def compute_class_weights(labels):\n",
    "    unique, counts = np.unique(np.argmax(labels.numpy(), axis=1), return_counts=True)\n",
    "    class_weights = torch.tensor([(class_counts / labels.shape[0]) for class_counts in counts],dtype=torch.float32)\n",
    "    return class_weights"
   ]
  },
  {
   "cell_type": "code",
   "execution_count": 3,
   "id": "massive-valve",
   "metadata": {},
   "outputs": [],
   "source": [
    "def compute_min_max(data_path):\n",
    "    data = np.loadtxt(data_path, delimiter=\",\", dtype=np.float32, skiprows=1)[:, 1:-7]\n",
    "    return np.stack((data.min(axis=0), data.max(axis=0)))"
   ]
  },
  {
   "cell_type": "code",
   "execution_count": 4,
   "id": "stable-statement",
   "metadata": {},
   "outputs": [],
   "source": [
    "class CovidDataset(Dataset): \n",
    "    def __init__(self, path, label_num):\n",
    "        self.data = np.loadtxt(path, delimiter=\",\", dtype=np.float32, skiprows=1)\n",
    "        self.x = torch.from_numpy(self.data[:, 1:-7])\n",
    "        \n",
    "        print(self.x.shape)\n",
    "        #print(\"data\", pd.get_dummies(self.data[:, -1]))\n",
    "        y = pd.get_dummies(self.data[:, label_num]).to_numpy(dtype=np.float32)\n",
    "        #print(\"y == \", y)\n",
    "        self.y = torch.from_numpy(y)\n",
    "\n",
    "        self.minMax = torch.from_numpy(compute_min_max(path))#, split_indexes[0], split_indexes[1]))\n",
    "        self.len = len(self.data)\n",
    "        self.class_weights = compute_class_weights(self.y)\n",
    "\n",
    "    def __len__(self):\n",
    "        return self.len\n",
    "\n",
    "    def __getitem__(self, idx):\n",
    "        inputs = torch.sub(self.x[idx], self.minMax[0])/ torch.sub(self.minMax[1],self.minMax[0])\n",
    "        return inputs, self.y[idx]\n",
    "        #return self.x[idx], torch.unsqueeze(self.y[idx], dim=1)\n"
   ]
  },
  {
   "cell_type": "code",
   "execution_count": 5,
   "id": "martial-orange",
   "metadata": {},
   "outputs": [],
   "source": [
    "class Trainer:\n",
    "    def __init__(self, model, class_weights, save_directory, weights_file, loss='dl', lr=0.5):\n",
    "\n",
    "        possible_loss = {'nllloss' : nn.NLLLoss(weight=class_weights, reduction='mean'),\n",
    "                         'cross' : nn.CrossEntropyLoss(), 'mse' : nn.MSELoss(reduction='mean'),\n",
    "                         'BCEloss' : nn.BCELoss(), 'BCElogits' : nn.BCEWithLogitsLoss(weight=class_weights)}\n",
    "\n",
    "        self.model = model\n",
    "        self.criterion = possible_loss[loss]\n",
    "        self.optimizer = torch.optim.SGD(model.parameters(), lr=lr)\n",
    "        self.scheduler = torch.optim.lr_scheduler.ReduceLROnPlateau(self.optimizer, mode='max', factor=0.6, patience=2, cooldown=2)\n",
    "        self.history = {'lr': [], 'loss': [], 'acc':[], 'val_loss': [], 'val_acc':[]}\n",
    "        self.max_val_acc = float('-inf')\n",
    "        self.save_dir = save_directory\n",
    "        self.weights_file = weights_file\n",
    "\n",
    "    def fit(self, train_dataloader, val_dataloader, nb_epochs):\n",
    "        print(f'==== Training ====\\n')\n",
    "\n",
    "        for epoch in range(nb_epochs):\n",
    "            print(f'Epoch {epoch + 1} / {nb_epochs}')\n",
    "            train_loss = val_loss = train_acc = val_acc = 0.0\n",
    "\n",
    "            self.model.train()\n",
    "            pbar = tf.keras.utils.Progbar(target=len(train_dataloader))\n",
    "\n",
    "            for i, batch in enumerate(train_dataloader):\n",
    "                inputs, labels = batch\n",
    "\n",
    "                # Clear gradients w.r.t. parameters\n",
    "                self.optimizer.zero_grad()\n",
    "\n",
    "                # Forward pass to get output/logits\n",
    "                output = self.model(inputs)\n",
    "\n",
    "                # Calculate Loss\n",
    "                #print(\"calculate_loss\", output, torch.squeeze(labels, dim=2))\n",
    "                #print(output, labels)\n",
    "                #loss = self.criterion(output, torch.squeeze(labels, dim=2))\n",
    "                #print('output : ', output[0])\n",
    "                #print('labels : ',labels[0])\n",
    "                #print(output, labels)\n",
    "                \n",
    "                loss = self.criterion(output, labels)\n",
    "                train_loss += loss\n",
    "                train_acc += 1 if np.argmax(labels.detach().numpy()[0]) == np.argmax(output.detach().numpy()[0]) else 0\n",
    "\n",
    "                # Getting gradients w.r.t. parameters\n",
    "                loss.backward()\n",
    "\n",
    "                pbar.update(i + 1, values=\n",
    "                            [\n",
    "                                (\"loss\", train_loss.item()/(i + 1)),\n",
    "                                (\"acc\", train_acc/(i + 1)),\n",
    "                                (\"lr\", self.scheduler.optimizer.param_groups[0]['lr'])\n",
    "                            ])\n",
    "\n",
    "                # Updating parameters\n",
    "                self.optimizer.step()\n",
    "\n",
    "            print('Validation')\n",
    "\n",
    "            self.model.eval()\n",
    "            pbar = tf.keras.utils.Progbar(target=len(val_dataloader))\n",
    "\n",
    "            with torch.no_grad():\n",
    "                for i, batch in enumerate(val_dataloader):\n",
    "                    inputs, labels = batch\n",
    "                    output = self.model(inputs)\n",
    "    \n",
    "                    \n",
    "                    loss = self.criterion(output, labels)\n",
    "                    val_loss += loss\n",
    "                    val_acc += 1 if np.argmax(labels.detach().numpy()[0]) == np.argmax(output.detach().numpy()[0]) else 0\n",
    "\n",
    "                    pbar.update(i + 1, values=\n",
    "                            [\n",
    "                                (\"loss\", val_loss.item()/(i + 1)),\n",
    "                                (\"acc\", val_acc/(i + 1)),\n",
    "                                (\"lr\", self.scheduler.optimizer.param_groups[0]['lr'])\n",
    "                            ])\n",
    "\n",
    "            train_loss = train_loss / len(train_dataloader)\n",
    "            train_acc = train_acc / len(train_dataloader)\n",
    "\n",
    "            val_loss = val_loss / len(val_dataloader)\n",
    "            val_acc = val_acc / len(val_dataloader)\n",
    "\n",
    "            lr = self.scheduler.optimizer.param_groups[0]['lr']\n",
    "            self.scheduler.step(val_loss)\n",
    "\n",
    "            self.history['lr'].append(lr)\n",
    "            self.history['loss'].append(train_loss)\n",
    "            self.history['val_loss'].append(val_loss)\n",
    "            self.history['acc'].append(train_acc)\n",
    "            self.history['val_acc'].append(val_acc)\n",
    "\n",
    "            if val_acc > self.max_val_acc:\n",
    "                print(f'Model saved. Acc updated: {self.max_val_acc:.3f} -> {val_acc:.3f}')\n",
    "                self.max_val_acc = val_acc\n",
    "                torch.save(self.model.state_dict(), f'{self.save_dir}/{self.weights_file}')\n",
    "\n",
    "    def evaluate(self, test_dataloader, display=True):\n",
    "        print(f'==== Evaluate ====\\n')\n",
    "        correct = total_loss = total = 0.0\n",
    "\n",
    "        self.model.eval()\n",
    "        with torch.no_grad():\n",
    "\n",
    "            for i, (inputs, labels) in enumerate(test_dataloader):\n",
    "\n",
    "                pred = self.model(inputs)\n",
    "                #print(\"pred ==> \", pred, labels)\n",
    "                #print(\"argmax\", np.argmax(labels.detach().numpy()[0]))\n",
    "\n",
    "                loss = self.criterion(pred[0], labels[0])\n",
    "                total_loss += loss\n",
    "\n",
    "                # Total correct predictions\n",
    "                correct += 1 if np.argmax(labels.detach().numpy()[0]) == np.argmax(pred.detach().numpy()[0]) else 0\n",
    "\n",
    "            total_accuracy = 100 * correct / len(test_dataloader)\n",
    "\n",
    "            if display: \n",
    "                print('Iteration: {}. Loss: {}. Accuracy: {}. total loss: {}.'.format(len(test_dataloader), loss.item(), total_accuracy, total_loss))\n",
    "\n",
    "            return total_accuracy\n",
    "\n",
    "    def display_history(self, accuracy=True, loss=False):\n",
    "        if loss:\n",
    "            plt.figure(figsize=(6,6))\n",
    "            plt.plot(self.history['loss'], label=\"Loss\")\n",
    "            plt.plot(self.history['val_loss'], label=\"Validation loss\")\n",
    "            plt.ylabel('Loss', fontsize=10)\n",
    "            plt.xlabel('Epochs', fontsize=10)\n",
    "            plt.legend()\n",
    "            plt.show()\n",
    "\n",
    "        if accuracy:\n",
    "            plt.figure(figsize=(6,6))\n",
    "            print(self.history['acc'])\n",
    "            plt.plot(self.history['acc'], label=\"Accuracy\")\n",
    "            plt.plot(self.history['val_acc'], label=\"Validation accuracy\")\n",
    "            plt.ylabel('Accuracy', fontsize=10)\n",
    "            plt.xlabel('Epochs', fontsize=10)\n",
    "            plt.legend()\n",
    "            plt.show()\n",
    "\n",
    "    def load_weights(self, path):\n",
    "        self.model.load_state_dict(torch.load(path))\n",
    "        self.model.eval()\n"
   ]
  },
  {
   "cell_type": "code",
   "execution_count": 6,
   "id": "circular-lambda",
   "metadata": {},
   "outputs": [],
   "source": [
    "def prediction_analyse(dataloader, trainer, display_confusion=True):\n",
    "    accuracy = trainer.evaluate(dataloader, display=False)\n",
    "    print(\"accuracy\", accuracy)\n",
    "\n",
    "    all_predictions = np.array([])\n",
    "    all_labels = np.array([])\n",
    "\n",
    "    for i, (inputs, labels) in enumerate(dataloader):\n",
    "        pred = trainer.model(inputs)\n",
    "        pred = np.argmax(pred.detach().numpy()[0])\n",
    "        #pred = np.argmax(pred)\n",
    "\n",
    "        label = np.argmax(labels[0].detach().numpy())\n",
    "        \n",
    "        #print(pred, label)\n",
    "\n",
    "        all_predictions = np.append(all_predictions, pred)\n",
    "        all_labels = np.append(all_labels, label)\n",
    "    print(all_predictions, all_labels)\n",
    "\n",
    "    cm = confusion_matrix(all_labels, all_predictions)\n",
    "\n",
    "\n",
    "    if display_confusion:\n",
    "        display = ConfusionMatrixDisplay(confusion_matrix=cm)\n",
    "        display.plot()\n",
    "        plt.show()\n",
    "\n",
    "    TP = cm[1,1] # true positive \n",
    "    TN = cm[0,0] # true negatives\n",
    "    FP = cm[0,1] # false positives\n",
    "    FN = cm[1,0] # false negatif\n",
    "\n",
    "    sensitivity = TP / (TP + FN)\n",
    "    specificity = TN / (TN + FP)\n",
    "    #positive predictive value\n",
    "    PPV = TP / (TP + FP)\n",
    "    #negative predictive value\n",
    "    NPV = TN / (TN + FN)\n",
    "\n",
    "\n",
    "    PPV = TP / (TP + FP) if (TP + FP) != 0 else 'no positives values'\n",
    "    NPV = TN / (TN + FN) if (TN + FN) != 0 else 'no negatives values'\n",
    "\n",
    "    print(f'sensitivity : {sensitivity}, specificity : {specificity}, PPV : {PPV}, NPV : {NPV}')\n",
    "    return accuracy\n"
   ]
  },
  {
   "cell_type": "code",
   "execution_count": 7,
   "id": "existing-mortality",
   "metadata": {},
   "outputs": [],
   "source": [
    "def get_all_predictions(dataloader, trainer):\n",
    "\n",
    "    all_predictions = np.array([])\n",
    "    all_labels = np.array([])\n",
    "\n",
    "    for i, (inputs, labels) in enumerate(dataloader):\n",
    "        pred = trainer.model(inputs)\n",
    "        pred = np.argmax(pred.detach().numpy()[0])\n",
    "        #pred = np.argmax(pred)\n",
    "\n",
    "        label = np.argmax(labels[0].detach().numpy())\n",
    "        \n",
    "        #print(pred, label)\n",
    "\n",
    "        all_predictions = np.append(all_predictions, pred)\n",
    "        all_labels = np.append(all_labels, label)\n",
    "    return all_predictions, all_labels"
   ]
  },
  {
   "cell_type": "code",
   "execution_count": 8,
   "id": "promotional-vegetation",
   "metadata": {},
   "outputs": [],
   "source": [
    "def create_dataloaders(dataset, split_proportions, batch_size, display_informations=False):\n",
    "    lengths = [round(len(dataset) * split) for split in split_proportions]\n",
    "\n",
    "    train_dataset, val_dataset, test_dataset = torch.utils.data.random_split(dataset, lengths=lengths, generator=torch.Generator().manual_seed(42))\n",
    "\n",
    "    train_dataloader = torch.utils.data.DataLoader(\n",
    "        train_dataset,\n",
    "        batch_size=batch_size,\n",
    "        shuffle=True,\n",
    "        num_workers=1,\n",
    "        prefetch_factor=1,\n",
    "        persistent_workers=False,\n",
    "        pin_memory=True\n",
    "    )\n",
    "\n",
    "    val_dataloader = torch.utils.data.DataLoader(\n",
    "        val_dataset,\n",
    "        batch_size=batch_size,\n",
    "        shuffle=True,\n",
    "        num_workers=4,\n",
    "        prefetch_factor=2,\n",
    "        persistent_workers=False,\n",
    "        pin_memory=True\n",
    "    )\n",
    "\n",
    "    test_dataloader = torch.utils.data.DataLoader(\n",
    "        test_dataset,\n",
    "        batch_size=1,\n",
    "        shuffle=True,\n",
    "        num_workers=4,\n",
    "        prefetch_factor=2,\n",
    "        persistent_workers=False,\n",
    "        pin_memory=True\n",
    "    )\n",
    "\n",
    "    if display_informations:\n",
    "        print(f'Total dataset: {len(train_dataloader) + len(val_dataloader) + len(test_dataloader)}, '\n",
    "            f'train dataset: {len(train_dataloader)}, val dataset: {len(val_dataloader)}, test_dataset: {len(test_dataloader)}')\n",
    "    return train_dataloader, val_dataloader, test_dataloader\n",
    "\n"
   ]
  },
  {
   "cell_type": "code",
   "execution_count": 9,
   "id": "continuous-exclusive",
   "metadata": {},
   "outputs": [],
   "source": [
    "class Hidden_layer(nn.Module):\n",
    "    def __init__(self, input_size, output_size, relu=True):\n",
    "        super(Hidden_layer, self).__init__()\n",
    "        self.input_size = input_size\n",
    "        self.output_size = output_size\n",
    "        self.linear = torch.nn.Linear(self.input_size, self.output_size)\n",
    "        self.relu = torch.nn.ReLU()\n",
    "    \n",
    "    def forward(self, x):\n",
    "        x = self.linear(x)\n",
    "        x = self.relu(x)\n",
    "        return x\n",
    "    \n",
    "def create_hidden_layers(sizes):\n",
    "    length = len(sizes)\n",
    "    hiddens = []\n",
    "    \n",
    "    for i in range(length - 1):\n",
    "        if i == length - 2:\n",
    "            hidden = Hidden_layer(sizes[i], sizes[i + 1], relu=False)\n",
    "        else:\n",
    "            hidden = Hidden_layer(sizes[i], sizes[i + 1])\n",
    "        hiddens.append(hidden)\n",
    "        \n",
    "    return nn.ModuleList(hiddens)\n",
    "\n",
    "class MLP(nn.Module):\n",
    "        def __init__(self, sizes):#, output_size, hidden_size = 100, input_size = 36):\n",
    "            super(MLP, self).__init__()\n",
    "            \n",
    "            self.hiddens = create_hidden_layers(sizes)\n",
    "            self.sigmoid = torch.nn.Sigmoid()\n",
    "            self.softmax = nn.Softmax(dim=1)\n",
    "            \n",
    "        def forward(self, x):\n",
    "            for hidden in self.hiddens:\n",
    "                x = hidden(x)\n",
    "                \n",
    "            out = self.softmax(x)\n",
    "            return out"
   ]
  },
  {
   "cell_type": "markdown",
   "id": "future-alert",
   "metadata": {},
   "source": [
    "# Data infos"
   ]
  },
  {
   "cell_type": "code",
   "execution_count": 10,
   "id": "portuguese-theology",
   "metadata": {},
   "outputs": [],
   "source": [
    "TEST_SPLIT = 0.2\n",
    "VALIDATION_SPLIT = 0.21\n",
    "TRAIN_SPLIT = 1 - TEST_SPLIT - VALIDATION_SPLIT\n",
    "\n",
    "split_proportions = [TRAIN_SPLIT, VALIDATION_SPLIT, TEST_SPLIT]"
   ]
  },
  {
   "cell_type": "code",
   "execution_count": 11,
   "id": "different-absolute",
   "metadata": {},
   "outputs": [],
   "source": [
    "data_path = 'data/clean_data.csv'"
   ]
  },
  {
   "cell_type": "code",
   "execution_count": 12,
   "id": "rubber-course",
   "metadata": {},
   "outputs": [],
   "source": [
    "save_directory = 'weights'"
   ]
  },
  {
   "cell_type": "code",
   "execution_count": 13,
   "id": "preceding-volleyball",
   "metadata": {},
   "outputs": [],
   "source": [
    "nb_epochs = 40"
   ]
  },
  {
   "cell_type": "markdown",
   "id": "portuguese-greece",
   "metadata": {},
   "source": [
    "# Data verification"
   ]
  },
  {
   "cell_type": "code",
   "execution_count": 14,
   "id": "elegant-estimate",
   "metadata": {},
   "outputs": [
    {
     "name": "stdout",
     "output_type": "stream",
     "text": [
      "torch.Size([262, 36])\n"
     ]
    }
   ],
   "source": [
    "covid_dataset = CovidDataset(data_path, -7)\n",
    "train_dataloader, val_dataloader, test_dataloader = create_dataloaders(covid_dataset, batch_size=1, split_proportions=split_proportions)"
   ]
  },
  {
   "cell_type": "code",
   "execution_count": 15,
   "id": "crucial-filter",
   "metadata": {},
   "outputs": [
    {
     "name": "stdout",
     "output_type": "stream",
     "text": [
      "input ==>\n",
      " tensor([[0.0000, 0.6143, 1.0000, 0.0000, 0.6667, 0.0000, 0.0000, 0.0000, 0.0000,\n",
      "         0.5000, 0.0000, 0.0000, 0.0000, 0.0000, 0.0000, 0.5000, 0.0000, 0.5000,\n",
      "         0.0000, 0.0000, 0.4486, 0.6774, 0.7087, 0.3256, 0.6579, 0.0000, 0.8571,\n",
      "         0.0000, 0.6667, 0.3333, 0.3333, 0.3333, 0.6667, 0.0000, 0.6667, 0.0000]])\n",
      "label ==>\n",
      " tensor([[0., 0., 1., 0.]])\n"
     ]
    }
   ],
   "source": [
    "participant = next(iter(train_dataloader))\n",
    "print('input ==>\\n', participant[0])\n",
    "print('label ==>\\n', participant[1])"
   ]
  },
  {
   "cell_type": "markdown",
   "id": "departmental-retail",
   "metadata": {},
   "source": [
    "# Train"
   ]
  },
  {
   "cell_type": "markdown",
   "id": "departmental-theater",
   "metadata": {},
   "source": [
    "## All labels at once"
   ]
  },
  {
   "cell_type": "code",
   "execution_count": 16,
   "id": "african-alarm",
   "metadata": {
    "scrolled": true
   },
   "outputs": [
    {
     "name": "stdout",
     "output_type": "stream",
     "text": [
      "torch.Size([262, 36])\n",
      "MLP(\n",
      "  (hiddens): ModuleList(\n",
      "    (0): Hidden_layer(\n",
      "      (linear): Linear(in_features=36, out_features=512, bias=True)\n",
      "      (relu): ReLU()\n",
      "    )\n",
      "    (1): Hidden_layer(\n",
      "      (linear): Linear(in_features=512, out_features=512, bias=True)\n",
      "      (relu): ReLU()\n",
      "    )\n",
      "    (2): Hidden_layer(\n",
      "      (linear): Linear(in_features=512, out_features=512, bias=True)\n",
      "      (relu): ReLU()\n",
      "    )\n",
      "    (3): Hidden_layer(\n",
      "      (linear): Linear(in_features=512, out_features=4, bias=True)\n",
      "      (relu): ReLU()\n",
      "    )\n",
      "  )\n",
      "  (sigmoid): Sigmoid()\n",
      "  (softmax): Softmax(dim=1)\n",
      ")\n",
      "==== Training ====\n",
      "\n",
      "Epoch 1 / 40\n",
      "155/155 [==============================] - 1s 4ms/step - loss: 0.1782 - acc: 0.4206 - lr: 0.5000\n",
      "Validation\n",
      "55/55 [==============================] - 0s 2ms/step - loss: 0.1722 - acc: 0.8431 - lr: 0.5000\n",
      "Model saved. Acc updated: -inf -> 0.745\n",
      "Epoch 2 / 40\n",
      "155/155 [==============================] - 1s 4ms/step - loss: 0.1751 - acc: 0.6337 - lr: 0.5000\n",
      "Validation\n",
      "55/55 [==============================] - 0s 2ms/step - loss: 0.1578 - acc: 0.7237 - lr: 0.5000\n",
      "Model saved. Acc updated: 0.745 -> 0.818\n",
      "Epoch 3 / 40\n",
      "155/155 [==============================] - 1s 4ms/step - loss: 0.1532 - acc: 0.8546 - lr: 0.5000\n",
      "Validation\n",
      "55/55 [==============================] - 0s 3ms/step - loss: 0.1463 - acc: 0.8184 - lr: 0.5000\n",
      "Epoch 4 / 40\n",
      "155/155 [==============================] - 1s 4ms/step - loss: 0.1501 - acc: 0.8049 - lr: 0.5000\n",
      "Validation\n",
      "55/55 [==============================] - 0s 2ms/step - loss: 0.1365 - acc: 0.9032 - lr: 0.5000\n",
      "Model saved. Acc updated: 0.818 -> 0.836\n",
      "Epoch 5 / 40\n",
      "155/155 [==============================] - 1s 4ms/step - loss: 0.1429 - acc: 0.8630 - lr: 0.3000\n",
      "Validation\n",
      "55/55 [==============================] - 0s 2ms/step - loss: 0.1443 - acc: 0.8441 - lr: 0.3000\n",
      "Model saved. Acc updated: 0.836 -> 0.855\n",
      "Epoch 6 / 40\n",
      "155/155 [==============================] - 1s 4ms/step - loss: 0.1428 - acc: 0.8582 - lr: 0.3000\n",
      "Validation\n",
      "55/55 [==============================] - 0s 1ms/step - loss: 0.1464 - acc: 0.8017 - lr: 0.3000\n",
      "Epoch 7 / 40\n",
      "155/155 [==============================] - 0s 3ms/step - loss: 0.1390 - acc: 0.8921 - lr: 0.3000\n",
      "Validation\n",
      "55/55 [==============================] - 0s 1ms/step - loss: 0.1456 - acc: 0.8317 - lr: 0.3000\n",
      "Epoch 8 / 40\n",
      "155/155 [==============================] - 0s 3ms/step - loss: 0.1357 - acc: 0.9358 - lr: 0.3000\n",
      "Validation\n",
      "55/55 [==============================] - 0s 3ms/step - loss: 0.1488 - acc: 0.8106 - lr: 0.3000\n",
      "Epoch 9 / 40\n",
      "155/155 [==============================] - 1s 3ms/step - loss: 0.1465 - acc: 0.8343 - lr: 0.3000\n",
      "Validation\n",
      "55/55 [==============================] - 0s 1ms/step - loss: 0.1405 - acc: 0.8753 - lr: 0.3000\n",
      "Epoch 10 / 40\n",
      "155/155 [==============================] - 1s 3ms/step - loss: 0.1394 - acc: 0.9153 - lr: 0.1800\n",
      "Validation\n",
      "55/55 [==============================] - 0s 2ms/step - loss: 0.1440 - acc: 0.8310 - lr: 0.1800\n",
      "Epoch 11 / 40\n",
      "155/155 [==============================] - 1s 3ms/step - loss: 0.1406 - acc: 0.8951 - lr: 0.1800\n",
      "Validation\n",
      "55/55 [==============================] - 0s 2ms/step - loss: 0.1359 - acc: 0.9047 - lr: 0.1800\n",
      "Epoch 12 / 40\n",
      "155/155 [==============================] - 1s 4ms/step - loss: 0.1367 - acc: 0.9212 - lr: 0.1800\n",
      "Validation\n",
      "55/55 [==============================] - 0s 2ms/step - loss: 0.1434 - acc: 0.8330 - lr: 0.1800\n",
      "Epoch 13 / 40\n",
      "155/155 [==============================] - 1s 4ms/step - loss: 0.1388 - acc: 0.9038 - lr: 0.1800\n",
      "Validation\n",
      "55/55 [==============================] - 0s 1ms/step - loss: 0.1376 - acc: 0.8929 - lr: 0.1800\n",
      "Epoch 14 / 40\n",
      "155/155 [==============================] - 1s 4ms/step - loss: 0.1417 - acc: 0.8817 - lr: 0.1800\n",
      "Validation\n",
      "55/55 [==============================] - 0s 1ms/step - loss: 0.1410 - acc: 0.8982 - lr: 0.1800\n",
      "Epoch 15 / 40\n",
      "155/155 [==============================] - 1s 4ms/step - loss: 0.1375 - acc: 0.9255 - lr: 0.1080\n",
      "Validation\n",
      "55/55 [==============================] - 0s 2ms/step - loss: 0.1368 - acc: 0.9059 - lr: 0.1080\n",
      "Epoch 16 / 40\n",
      "155/155 [==============================] - 1s 4ms/step - loss: 0.1380 - acc: 0.9213 - lr: 0.1080\n",
      "Validation\n",
      "55/55 [==============================] - 0s 1ms/step - loss: 0.1443 - acc: 0.8493 - lr: 0.1080\n",
      "Epoch 17 / 40\n",
      "155/155 [==============================] - 1s 4ms/step - loss: 0.1410 - acc: 0.8936 - lr: 0.1080\n",
      "Validation\n",
      "55/55 [==============================] - 0s 2ms/step - loss: 0.1429 - acc: 0.8273 - lr: 0.1080\n",
      "Epoch 18 / 40\n",
      "155/155 [==============================] - 1s 4ms/step - loss: 0.1377 - acc: 0.9198 - lr: 0.1080\n",
      "Validation\n",
      "55/55 [==============================] - 0s 1ms/step - loss: 0.1470 - acc: 0.7829 - lr: 0.1080\n",
      "Epoch 19 / 40\n",
      "155/155 [==============================] - 1s 3ms/step - loss: 0.1358 - acc: 0.9318 - lr: 0.1080\n",
      "Validation\n",
      "55/55 [==============================] - 0s 2ms/step - loss: 0.1465 - acc: 0.8140 - lr: 0.1080\n",
      "Epoch 20 / 40\n",
      "155/155 [==============================] - 1s 4ms/step - loss: 0.1380 - acc: 0.9201 - lr: 0.0648\n",
      "Validation\n",
      "55/55 [==============================] - 0s 1ms/step - loss: 0.1356 - acc: 0.8970 - lr: 0.0648\n",
      "Epoch 21 / 40\n",
      "155/155 [==============================] - 1s 4ms/step - loss: 0.1365 - acc: 0.9351 - lr: 0.0648\n",
      "Validation\n",
      "55/55 [==============================] - 0s 1ms/step - loss: 0.1417 - acc: 0.8445 - lr: 0.0648\n",
      "Epoch 22 / 40\n",
      "155/155 [==============================] - 1s 3ms/step - loss: 0.1371 - acc: 0.9138 - lr: 0.0648\n",
      "Validation\n",
      "55/55 [==============================] - 0s 1ms/step - loss: 0.1508 - acc: 0.7821 - lr: 0.0648\n",
      "Epoch 23 / 40\n",
      "155/155 [==============================] - 0s 3ms/step - loss: 0.1386 - acc: 0.8957 - lr: 0.0648\n",
      "Validation\n",
      "55/55 [==============================] - 0s 2ms/step - loss: 0.1345 - acc: 0.9040 - lr: 0.0648\n",
      "Epoch 24 / 40\n",
      "155/155 [==============================] - 0s 3ms/step - loss: 0.1364 - acc: 0.9205 - lr: 0.0648\n",
      "Validation\n",
      "55/55 [==============================] - 0s 1ms/step - loss: 0.1393 - acc: 0.8866 - lr: 0.0648\n",
      "Epoch 25 / 40\n",
      "155/155 [==============================] - 1s 3ms/step - loss: 0.1409 - acc: 0.8932 - lr: 0.0389\n",
      "Validation\n",
      "55/55 [==============================] - 0s 1ms/step - loss: 0.1413 - acc: 0.8424 - lr: 0.0389\n",
      "Epoch 26 / 40\n",
      "155/155 [==============================] - 0s 3ms/step - loss: 0.1414 - acc: 0.8869 - lr: 0.0389\n",
      "Validation\n",
      "55/55 [==============================] - 0s 1ms/step - loss: 0.1445 - acc: 0.8180 - lr: 0.0389\n",
      "Epoch 27 / 40\n",
      "155/155 [==============================] - 0s 3ms/step - loss: 0.1366 - acc: 0.9205 - lr: 0.0389\n",
      "Validation\n",
      "55/55 [==============================] - 0s 1ms/step - loss: 0.1439 - acc: 0.7970 - lr: 0.0389\n",
      "Epoch 28 / 40\n",
      "155/155 [==============================] - 0s 3ms/step - loss: 0.1370 - acc: 0.9164 - lr: 0.0389\n",
      "Validation\n",
      "55/55 [==============================] - 0s 1ms/step - loss: 0.1529 - acc: 0.7274 - lr: 0.0389\n",
      "Epoch 29 / 40\n",
      "155/155 [==============================] - 0s 3ms/step - loss: 0.1390 - acc: 0.8965 - lr: 0.0389\n",
      "Validation\n",
      "55/55 [==============================] - 0s 2ms/step - loss: 0.1361 - acc: 0.9027 - lr: 0.0389\n",
      "Epoch 30 / 40\n",
      "155/155 [==============================] - 1s 3ms/step - loss: 0.1379 - acc: 0.9080 - lr: 0.0233\n",
      "Validation\n",
      "55/55 [==============================] - 0s 1ms/step - loss: 0.1466 - acc: 0.8088 - lr: 0.0233\n",
      "Epoch 31 / 40\n",
      "155/155 [==============================] - 1s 3ms/step - loss: 0.1409 - acc: 0.8786 - lr: 0.0233\n",
      "Validation\n",
      "55/55 [==============================] - 0s 1ms/step - loss: 0.1506 - acc: 0.7722 - lr: 0.0233\n",
      "Epoch 32 / 40\n",
      "155/155 [==============================] - 1s 3ms/step - loss: 0.1449 - acc: 0.8502 - lr: 0.0233\n",
      "Validation\n",
      "55/55 [==============================] - 0s 1ms/step - loss: 0.1472 - acc: 0.8321 - lr: 0.0233\n",
      "Epoch 33 / 40\n",
      "155/155 [==============================] - 0s 3ms/step - loss: 0.1408 - acc: 0.8865 - lr: 0.0233\n",
      "Validation\n",
      "55/55 [==============================] - 0s 1ms/step - loss: 0.1438 - acc: 0.8169 - lr: 0.0233\n",
      "Epoch 34 / 40\n",
      "155/155 [==============================] - 0s 3ms/step - loss: 0.1420 - acc: 0.8668 - lr: 0.0233\n",
      "Validation\n",
      "55/55 [==============================] - 0s 1ms/step - loss: 0.1567 - acc: 0.6933 - lr: 0.0233\n",
      "Epoch 35 / 40\n"
     ]
    },
    {
     "name": "stdout",
     "output_type": "stream",
     "text": [
      "155/155 [==============================] - 0s 3ms/step - loss: 0.1387 - acc: 0.9108 - lr: 0.0140\n",
      "Validation\n",
      "55/55 [==============================] - 0s 1ms/step - loss: 0.1366 - acc: 0.9117 - lr: 0.0140\n",
      "Epoch 36 / 40\n",
      "155/155 [==============================] - 1s 4ms/step - loss: 0.1377 - acc: 0.9101 - lr: 0.0140\n",
      "Validation\n",
      "55/55 [==============================] - 0s 2ms/step - loss: 0.1486 - acc: 0.8076 - lr: 0.0140\n",
      "Epoch 37 / 40\n",
      "155/155 [==============================] - 1s 4ms/step - loss: 0.1410 - acc: 0.8740 - lr: 0.0140\n",
      "Validation\n",
      "55/55 [==============================] - 0s 2ms/step - loss: 0.1428 - acc: 0.8405 - lr: 0.0140\n",
      "Epoch 38 / 40\n",
      "155/155 [==============================] - 1s 5ms/step - loss: 0.1364 - acc: 0.9284 - lr: 0.0140\n",
      "Validation\n",
      "55/55 [==============================] - 0s 2ms/step - loss: 0.1365 - acc: 0.9044 - lr: 0.0140\n",
      "Epoch 39 / 40\n",
      "155/155 [==============================] - 1s 4ms/step - loss: 0.1364 - acc: 0.9294 - lr: 0.0140\n",
      "Validation\n",
      "55/55 [==============================] - 0s 2ms/step - loss: 0.1508 - acc: 0.7618 - lr: 0.0140\n",
      "Epoch 40 / 40\n",
      "155/155 [==============================] - 1s 4ms/step - loss: 0.1361 - acc: 0.9223 - lr: 0.0084\n",
      "Validation\n",
      "55/55 [==============================] - 0s 2ms/step - loss: 0.1399 - acc: 0.8660 - lr: 0.0084\n"
     ]
    }
   ],
   "source": [
    "dataset = CovidDataset(data_path, -7)\n",
    "\n",
    "model = MLP([36, 512, 512, 512, 4])\n",
    "print(model)\n",
    "#print(list(model.parameters()))\n",
    "\n",
    "trainer = Trainer(model, dataset.class_weights, save_directory, \"multilayer_perceptron.pt\", loss='BCElogits', lr=0.5)\n",
    "trainer.fit(train_dataloader, val_dataloader, nb_epochs=nb_epochs)"
   ]
  },
  {
   "cell_type": "code",
   "execution_count": 17,
   "id": "local-taxation",
   "metadata": {},
   "outputs": [
    {
     "name": "stdout",
     "output_type": "stream",
     "text": [
      "[0.535483870967742, 0.7161290322580646, 0.8387096774193549, 0.832258064516129, 0.8516129032258064, 0.8580645161290322, 0.8709677419354839, 0.8838709677419355, 0.8838709677419355, 0.896774193548387, 0.896774193548387, 0.896774193548387, 0.896774193548387, 0.896774193548387, 0.896774193548387, 0.896774193548387, 0.896774193548387, 0.896774193548387, 0.896774193548387, 0.896774193548387, 0.896774193548387, 0.896774193548387, 0.896774193548387, 0.896774193548387, 0.896774193548387, 0.896774193548387, 0.896774193548387, 0.896774193548387, 0.896774193548387, 0.896774193548387, 0.896774193548387, 0.896774193548387, 0.896774193548387, 0.896774193548387, 0.896774193548387, 0.896774193548387, 0.896774193548387, 0.896774193548387, 0.896774193548387, 0.896774193548387]\n"
     ]
    },
    {
     "data": {
      "image/png": "[encoded data removed]",
      "text/plain": [
       "<Figure size 432x432 with 1 Axes>"
      ]
     },
     "metadata": {
      "needs_background": "light"
     },
     "output_type": "display_data"
    }
   ],
   "source": [
    "\n",
    "trainer.display_history()"
   ]
  },
  {
   "cell_type": "code",
   "execution_count": 18,
   "id": "nominated-state",
   "metadata": {},
   "outputs": [
    {
     "name": "stdout",
     "output_type": "stream",
     "text": [
      "MLP(\n",
      "  (hiddens): ModuleList(\n",
      "    (0): Hidden_layer(\n",
      "      (linear): Linear(in_features=36, out_features=512, bias=True)\n",
      "      (relu): ReLU()\n",
      "    )\n",
      "    (1): Hidden_layer(\n",
      "      (linear): Linear(in_features=512, out_features=512, bias=True)\n",
      "      (relu): ReLU()\n",
      "    )\n",
      "    (2): Hidden_layer(\n",
      "      (linear): Linear(in_features=512, out_features=512, bias=True)\n",
      "      (relu): ReLU()\n",
      "    )\n",
      "    (3): Hidden_layer(\n",
      "      (linear): Linear(in_features=512, out_features=4, bias=True)\n",
      "      (relu): ReLU()\n",
      "    )\n",
      "  )\n",
      "  (sigmoid): Sigmoid()\n",
      "  (softmax): Softmax(dim=1)\n",
      ")\n"
     ]
    }
   ],
   "source": [
    "print(model)"
   ]
  },
  {
   "cell_type": "code",
   "execution_count": 19,
   "id": "worldwide-copyright",
   "metadata": {},
   "outputs": [
    {
     "name": "stdout",
     "output_type": "stream",
     "text": [
      "==== Evaluate ====\n",
      "\n",
      "Iteration: 52. Loss: 0.13851413130760193. Accuracy: 88.46153846153847. total loss: 7.2014641761779785.\n"
     ]
    },
    {
     "data": {
      "text/plain": [
       "88.46153846153847"
      ]
     },
     "execution_count": 19,
     "metadata": {},
     "output_type": "execute_result"
    }
   ],
   "source": [
    "trainer.evaluate(test_dataloader)"
   ]
  },
  {
   "cell_type": "code",
   "execution_count": 20,
   "id": "unusual-patrick",
   "metadata": {},
   "outputs": [
    {
     "name": "stdout",
     "output_type": "stream",
     "text": [
      "==== Evaluate ====\n",
      "\n",
      "accuracy 88.46153846153847\n",
      "[2. 2. 1. 1. 2. 1. 1. 2. 1. 1. 2. 1. 2. 1. 1. 1. 2. 1. 1. 1. 1. 1. 1. 2.\n",
      " 1. 2. 1. 1. 2. 2. 2. 2. 2. 2. 1. 1. 1. 1. 2. 2. 2. 2. 1. 2. 1. 2. 1. 2.\n",
      " 1. 2. 2. 1.] [1. 2. 1. 1. 3. 1. 1. 2. 1. 1. 1. 1. 2. 1. 1. 1. 2. 1. 1. 1. 1. 1. 1. 2.\n",
      " 1. 2. 1. 1. 2. 2. 2. 0. 0. 2. 1. 1. 1. 1. 2. 2. 2. 2. 1. 2. 1. 2. 1. 3.\n",
      " 1. 2. 2. 1.]\n"
     ]
    },
    {
     "data": {
      "image/png": "[encoded data removed]",
      "text/plain": [
       "<Figure size 432x288 with 2 Axes>"
      ]
     },
     "metadata": {
      "needs_background": "light"
     },
     "output_type": "display_data"
    },
    {
     "name": "stdout",
     "output_type": "stream",
     "text": [
      "sensitivity : 1.0, specificity : nan, PPV : 1.0, NPV : no negatives values\n"
     ]
    },
    {
     "name": "stderr",
     "output_type": "stream",
     "text": [
      "<ipython-input-6-5b2a7b2f2af9>:35: RuntimeWarning: invalid value encountered in long_scalars\n",
      "  specificity = TN / (TN + FP)\n",
      "<ipython-input-6-5b2a7b2f2af9>:39: RuntimeWarning: invalid value encountered in long_scalars\n",
      "  NPV = TN / (TN + FN)\n"
     ]
    },
    {
     "data": {
      "text/plain": [
       "88.46153846153847"
      ]
     },
     "execution_count": 20,
     "metadata": {},
     "output_type": "execute_result"
    }
   ],
   "source": [
    "prediction_analyse(test_dataloader, trainer)"
   ]
  },
  {
   "cell_type": "markdown",
   "id": "written-livestock",
   "metadata": {},
   "source": [
    "## Only death"
   ]
  },
  {
   "cell_type": "code",
   "execution_count": 21,
   "id": "sufficient-publisher",
   "metadata": {},
   "outputs": [
    {
     "name": "stdout",
     "output_type": "stream",
     "text": [
      "torch.Size([262, 36])\n"
     ]
    }
   ],
   "source": [
    "covid_dataset_death = CovidDataset(data_path, -5)\n",
    "train_dataloader_death, val_dataloader_death, test_dataloader_death = create_dataloaders(covid_dataset_death, batch_size=1, split_proportions=split_proportions)"
   ]
  },
  {
   "cell_type": "code",
   "execution_count": 22,
   "id": "intimate-departure",
   "metadata": {},
   "outputs": [
    {
     "name": "stdout",
     "output_type": "stream",
     "text": [
      "torch.Size([262, 36])\n",
      "==== Training ====\n",
      "\n",
      "Epoch 1 / 40\n",
      "155/155 [==============================] - 1s 4ms/step - loss: 0.2051 - acc: 0.9521 - lr: 0.5000\n",
      "Validation\n",
      "55/55 [==============================] - 0s 1ms/step - loss: 0.1715 - acc: 0.9835 - lr: 0.5000\n",
      "Model saved. Acc updated: -inf -> 0.945\n",
      "Epoch 2 / 40\n",
      "155/155 [==============================] - 0s 3ms/step - loss: 0.1744 - acc: 0.9772 - lr: 0.5000\n",
      "Validation\n",
      "55/55 [==============================] - 0s 1ms/step - loss: 0.1806 - acc: 0.9641 - lr: 0.5000\n",
      "Epoch 3 / 40\n",
      "155/155 [==============================] - 1s 4ms/step - loss: 0.1699 - acc: 0.9862 - lr: 0.5000\n",
      "Validation\n",
      "55/55 [==============================] - 0s 2ms/step - loss: 0.1756 - acc: 0.9743 - lr: 0.5000\n",
      "Epoch 4 / 40\n",
      "155/155 [==============================] - 1s 4ms/step - loss: 0.1713 - acc: 0.9833 - lr: 0.5000\n",
      "Validation\n",
      "55/55 [==============================] - 0s 1ms/step - loss: 0.1985 - acc: 0.9269 - lr: 0.5000\n",
      "Epoch 5 / 40\n",
      "155/155 [==============================] - 1s 5ms/step - loss: 0.1689 - acc: 0.9882 - lr: 0.3000\n",
      "Validation\n",
      "55/55 [==============================] - 0s 1ms/step - loss: 0.1824 - acc: 0.9601 - lr: 0.3000\n",
      "Epoch 6 / 40\n",
      "155/155 [==============================] - 1s 4ms/step - loss: 0.1707 - acc: 0.9844 - lr: 0.3000\n",
      "Validation\n",
      "55/55 [==============================] - 0s 1ms/step - loss: 0.2166 - acc: 0.8893 - lr: 0.3000\n",
      "Epoch 7 / 40\n",
      "155/155 [==============================] - 0s 3ms/step - loss: 0.1678 - acc: 0.9905 - lr: 0.3000\n",
      "Validation\n",
      "55/55 [==============================] - 0s 1ms/step - loss: 0.1872 - acc: 0.9504 - lr: 0.3000\n",
      "Epoch 8 / 40\n",
      "155/155 [==============================] - 1s 4ms/step - loss: 0.1701 - acc: 0.9857 - lr: 0.3000\n",
      "Validation\n",
      "55/55 [==============================] - 0s 1ms/step - loss: 0.1836 - acc: 0.9577 - lr: 0.3000\n",
      "Epoch 9 / 40\n",
      "155/155 [==============================] - 1s 4ms/step - loss: 0.1689 - acc: 0.9882 - lr: 0.3000\n",
      "Validation\n",
      "55/55 [==============================] - 0s 1ms/step - loss: 0.1929 - acc: 0.9384 - lr: 0.3000\n",
      "Epoch 10 / 40\n",
      "155/155 [==============================] - 0s 3ms/step - loss: 0.1734 - acc: 0.9788 - lr: 0.1800\n",
      "Validation\n",
      "55/55 [==============================] - 0s 2ms/step - loss: 0.1685 - acc: 0.9889 - lr: 0.1800\n",
      "Epoch 11 / 40\n",
      "155/155 [==============================] - 0s 3ms/step - loss: 0.1793 - acc: 0.9665 - lr: 0.1800\n",
      "Validation\n",
      "55/55 [==============================] - 0s 2ms/step - loss: 0.1951 - acc: 0.9338 - lr: 0.1800\n",
      "Epoch 12 / 40\n",
      "155/155 [==============================] - 0s 3ms/step - loss: 0.1714 - acc: 0.9829 - lr: 0.1800\n",
      "Validation\n",
      "55/55 [==============================] - 0s 1ms/step - loss: 0.1842 - acc: 0.9564 - lr: 0.1800\n",
      "Epoch 13 / 40\n",
      "155/155 [==============================] - 0s 3ms/step - loss: 0.1947 - acc: 0.9347 - lr: 0.1800\n",
      "Validation\n",
      "55/55 [==============================] - 0s 1ms/step - loss: 0.1863 - acc: 0.9521 - lr: 0.1800\n",
      "Epoch 14 / 40\n",
      "155/155 [==============================] - 0s 3ms/step - loss: 0.1897 - acc: 0.9450 - lr: 0.1800\n",
      "Validation\n",
      "55/55 [==============================] - 0s 1ms/step - loss: 0.1911 - acc: 0.9421 - lr: 0.1800\n",
      "Epoch 15 / 40\n",
      "155/155 [==============================] - 0s 3ms/step - loss: 0.1708 - acc: 0.9842 - lr: 0.1080\n",
      "Validation\n",
      "55/55 [==============================] - 0s 1ms/step - loss: 0.1896 - acc: 0.9452 - lr: 0.1080\n",
      "Epoch 16 / 40\n",
      "155/155 [==============================] - 0s 3ms/step - loss: 0.1718 - acc: 0.9822 - lr: 0.1080\n",
      "Validation\n",
      "55/55 [==============================] - 0s 1ms/step - loss: 0.2148 - acc: 0.8932 - lr: 0.1080\n",
      "Epoch 17 / 40\n",
      "155/155 [==============================] - 0s 3ms/step - loss: 0.1727 - acc: 0.9802 - lr: 0.1080\n",
      "Validation\n",
      "55/55 [==============================] - 0s 2ms/step - loss: 0.1983 - acc: 0.9273 - lr: 0.1080\n",
      "Epoch 18 / 40\n",
      "155/155 [==============================] - 1s 4ms/step - loss: 0.1739 - acc: 0.9777 - lr: 0.1080\n",
      "Validation\n",
      "55/55 [==============================] - 0s 1ms/step - loss: 0.1969 - acc: 0.9301 - lr: 0.1080\n",
      "Epoch 19 / 40\n",
      "155/155 [==============================] - 0s 3ms/step - loss: 0.1713 - acc: 0.9831 - lr: 0.1080\n",
      "Validation\n",
      "55/55 [==============================] - 0s 2ms/step - loss: 0.1816 - acc: 0.9618 - lr: 0.1080\n",
      "Epoch 20 / 40\n",
      "155/155 [==============================] - 1s 4ms/step - loss: 0.1800 - acc: 0.9650 - lr: 0.0648\n",
      "Validation\n",
      "55/55 [==============================] - 0s 1ms/step - loss: 0.1752 - acc: 0.9752 - lr: 0.0648\n",
      "Epoch 21 / 40\n",
      "155/155 [==============================] - 0s 3ms/step - loss: 0.1696 - acc: 0.9867 - lr: 0.0648\n",
      "Validation\n",
      "55/55 [==============================] - 0s 1ms/step - loss: 0.2042 - acc: 0.9151 - lr: 0.0648\n",
      "Epoch 22 / 40\n",
      "155/155 [==============================] - 1s 4ms/step - loss: 0.1689 - acc: 0.9881 - lr: 0.0648\n",
      "Validation\n",
      "55/55 [==============================] - 0s 1ms/step - loss: 0.1999 - acc: 0.9239 - lr: 0.0648\n",
      "Epoch 23 / 40\n",
      "155/155 [==============================] - 0s 3ms/step - loss: 0.1725 - acc: 0.9806 - lr: 0.0648\n",
      "Validation\n",
      "55/55 [==============================] - 0s 2ms/step - loss: 0.1832 - acc: 0.9585 - lr: 0.0648\n",
      "Epoch 24 / 40\n",
      "155/155 [==============================] - 0s 3ms/step - loss: 0.1712 - acc: 0.9833 - lr: 0.0648\n",
      "Validation\n",
      "55/55 [==============================] - 0s 1ms/step - loss: 0.1861 - acc: 0.9525 - lr: 0.0648\n",
      "Epoch 25 / 40\n",
      "155/155 [==============================] - 0s 3ms/step - loss: 0.1726 - acc: 0.9805 - lr: 0.0389\n",
      "Validation\n",
      "55/55 [==============================] - 0s 1ms/step - loss: 0.1783 - acc: 0.9688 - lr: 0.0389\n",
      "Epoch 26 / 40\n",
      "155/155 [==============================] - 0s 3ms/step - loss: 0.1713 - acc: 0.9832 - lr: 0.0389\n",
      "Validation\n",
      "55/55 [==============================] - 0s 1ms/step - loss: 0.1932 - acc: 0.9377 - lr: 0.0389\n",
      "Epoch 27 / 40\n",
      "155/155 [==============================] - 0s 3ms/step - loss: 0.1783 - acc: 0.9687 - lr: 0.0389\n",
      "Validation\n",
      "55/55 [==============================] - 0s 1ms/step - loss: 0.1855 - acc: 0.9537 - lr: 0.0389\n",
      "Epoch 28 / 40\n",
      "155/155 [==============================] - 0s 3ms/step - loss: 0.1780 - acc: 0.9693 - lr: 0.0389\n",
      "Validation\n",
      "55/55 [==============================] - 0s 2ms/step - loss: 0.1978 - acc: 0.9282 - lr: 0.0389\n",
      "Epoch 29 / 40\n",
      "155/155 [==============================] - 0s 3ms/step - loss: 0.1730 - acc: 0.9797 - lr: 0.0389\n",
      "Validation\n",
      "55/55 [==============================] - 0s 1ms/step - loss: 0.1793 - acc: 0.9666 - lr: 0.0389\n",
      "Epoch 30 / 40\n",
      "155/155 [==============================] - 1s 4ms/step - loss: 0.1687 - acc: 0.9885 - lr: 0.0233\n",
      "Validation\n",
      "55/55 [==============================] - 0s 2ms/step - loss: 0.2040 - acc: 0.9154 - lr: 0.0233\n",
      "Epoch 31 / 40\n",
      "155/155 [==============================] - 0s 3ms/step - loss: 0.1714 - acc: 0.9830 - lr: 0.0233\n",
      "Validation\n",
      "55/55 [==============================] - 0s 1ms/step - loss: 0.1922 - acc: 0.9399 - lr: 0.0233\n",
      "Epoch 32 / 40\n",
      "155/155 [==============================] - 0s 3ms/step - loss: 0.1731 - acc: 0.9793 - lr: 0.0233\n",
      "Validation\n",
      "55/55 [==============================] - 0s 1ms/step - loss: 0.2070 - acc: 0.9093 - lr: 0.0233\n",
      "Epoch 33 / 40\n",
      "155/155 [==============================] - 0s 3ms/step - loss: 0.1687 - acc: 0.9886 - lr: 0.0233\n",
      "Validation\n",
      "55/55 [==============================] - 0s 1ms/step - loss: 0.1755 - acc: 0.9744 - lr: 0.0233\n",
      "Epoch 34 / 40\n",
      "155/155 [==============================] - 1s 4ms/step - loss: 0.1726 - acc: 0.9805 - lr: 0.0233\n",
      "Validation\n",
      "55/55 [==============================] - 0s 4ms/step - loss: 0.1797 - acc: 0.9657 - lr: 0.0233\n",
      "Epoch 35 / 40\n",
      "155/155 [==============================] - 1s 4ms/step - loss: 0.1691 - acc: 0.9876 - lr: 0.0140\n",
      "Validation\n",
      "55/55 [==============================] - 0s 2ms/step - loss: 0.2078 - acc: 0.9076 - lr: 0.0140\n",
      "Epoch 36 / 40\n",
      "155/155 [==============================] - 0s 3ms/step - loss: 0.1727 - acc: 0.9802 - lr: 0.0140\n",
      "Validation\n",
      "55/55 [==============================] - 0s 1ms/step - loss: 0.1745 - acc: 0.9765 - lr: 0.0140\n",
      "Epoch 37 / 40\n",
      "155/155 [==============================] - 0s 3ms/step - loss: 0.1742 - acc: 0.9772 - lr: 0.0140\n",
      "Validation\n",
      "55/55 [==============================] - 0s 1ms/step - loss: 0.2104 - acc: 0.9021 - lr: 0.0140\n",
      "Epoch 38 / 40\n"
     ]
    },
    {
     "name": "stdout",
     "output_type": "stream",
     "text": [
      "155/155 [==============================] - 1s 4ms/step - loss: 0.1832 - acc: 0.9585 - lr: 0.0140\n",
      "Validation\n",
      "55/55 [==============================] - 0s 2ms/step - loss: 0.1961 - acc: 0.9319 - lr: 0.0140\n",
      "Epoch 39 / 40\n",
      "155/155 [==============================] - 1s 3ms/step - loss: 0.1703 - acc: 0.9853 - lr: 0.0140\n",
      "Validation\n",
      "55/55 [==============================] - 0s 2ms/step - loss: 0.1787 - acc: 0.9678 - lr: 0.0140\n",
      "Epoch 40 / 40\n",
      "155/155 [==============================] - 1s 4ms/step - loss: 0.1760 - acc: 0.9734 - lr: 0.0084\n",
      "Validation\n",
      "55/55 [==============================] - 0s 1ms/step - loss: 0.1751 - acc: 0.9754 - lr: 0.0084\n"
     ]
    }
   ],
   "source": [
    "dataset_death = CovidDataset(data_path, -5)\n",
    "\n",
    "model_death = MLP([36, 512, 512, 512, 2])\n",
    "#print(model_death)\n",
    "#print(list(model.parameters()))\n",
    "\n",
    "trainer_death = Trainer(model_death, dataset_death.class_weights, save_directory, \"death_perceptron.pt\", loss='BCElogits', lr=0.5)\n",
    "trainer_death.fit(train_dataloader_death, val_dataloader_death, nb_epochs=nb_epochs)"
   ]
  },
  {
   "cell_type": "code",
   "execution_count": 23,
   "id": "recreational-bermuda",
   "metadata": {},
   "outputs": [
    {
     "name": "stdout",
     "output_type": "stream",
     "text": [
      "[0.967741935483871, 0.9741935483870968, 0.9741935483870968, 0.9741935483870968, 0.9741935483870968, 0.9741935483870968, 0.9741935483870968, 0.9741935483870968, 0.9741935483870968, 0.9741935483870968, 0.9741935483870968, 0.9741935483870968, 0.9741935483870968, 0.9741935483870968, 0.9741935483870968, 0.9741935483870968, 0.9741935483870968, 0.9741935483870968, 0.9741935483870968, 0.9741935483870968, 0.9741935483870968, 0.9741935483870968, 0.9741935483870968, 0.9741935483870968, 0.9741935483870968, 0.9741935483870968, 0.9741935483870968, 0.9741935483870968, 0.9741935483870968, 0.9741935483870968, 0.9741935483870968, 0.9741935483870968, 0.9741935483870968, 0.9741935483870968, 0.9741935483870968, 0.9741935483870968, 0.9741935483870968, 0.9741935483870968, 0.9741935483870968, 0.9741935483870968]\n"
     ]
    },
    {
     "data": {
      "image/png": "[encoded data removed]",
      "text/plain": [
       "<Figure size 432x432 with 1 Axes>"
      ]
     },
     "metadata": {
      "needs_background": "light"
     },
     "output_type": "display_data"
    }
   ],
   "source": [
    "trainer_death.display_history()"
   ]
  },
  {
   "cell_type": "code",
   "execution_count": 24,
   "id": "blessed-berry",
   "metadata": {},
   "outputs": [
    {
     "name": "stdout",
     "output_type": "stream",
     "text": [
      "==== Evaluate ====\n",
      "\n",
      "Iteration: 52. Loss: 0.163168266415596. Accuracy: 96.15384615384616. total loss: 9.450206756591797.\n"
     ]
    },
    {
     "data": {
      "text/plain": [
       "96.15384615384616"
      ]
     },
     "execution_count": 24,
     "metadata": {},
     "output_type": "execute_result"
    }
   ],
   "source": [
    "trainer_death.evaluate(test_dataloader_death)"
   ]
  },
  {
   "cell_type": "code",
   "execution_count": 25,
   "id": "personalized-favorite",
   "metadata": {},
   "outputs": [
    {
     "name": "stdout",
     "output_type": "stream",
     "text": [
      "==== Evaluate ====\n",
      "\n",
      "accuracy 96.15384615384616\n",
      "[0. 0. 0. 0. 0. 0. 0. 0. 0. 0. 0. 0. 0. 0. 0. 0. 0. 0. 0. 0. 0. 0. 0. 0.\n",
      " 0. 0. 0. 0. 0. 0. 0. 0. 0. 0. 0. 0. 0. 0. 0. 0. 0. 0. 0. 0. 0. 0. 0. 0.\n",
      " 0. 0. 0. 0.] [0. 0. 0. 0. 0. 0. 0. 0. 0. 0. 0. 0. 0. 0. 0. 0. 0. 0. 0. 0. 0. 0. 0. 0.\n",
      " 0. 0. 0. 0. 0. 0. 0. 0. 0. 1. 0. 0. 0. 1. 0. 0. 0. 0. 0. 0. 0. 0. 0. 0.\n",
      " 0. 0. 0. 0.]\n"
     ]
    },
    {
     "data": {
      "image/png": "[encoded data removed]",
      "text/plain": [
       "<Figure size 432x288 with 2 Axes>"
      ]
     },
     "metadata": {
      "needs_background": "light"
     },
     "output_type": "display_data"
    },
    {
     "name": "stdout",
     "output_type": "stream",
     "text": [
      "sensitivity : 0.0, specificity : 1.0, PPV : no positives values, NPV : 0.9615384615384616\n"
     ]
    },
    {
     "name": "stderr",
     "output_type": "stream",
     "text": [
      "<ipython-input-6-5b2a7b2f2af9>:37: RuntimeWarning: invalid value encountered in long_scalars\n",
      "  PPV = TP / (TP + FP)\n"
     ]
    },
    {
     "data": {
      "text/plain": [
       "96.15384615384616"
      ]
     },
     "execution_count": 25,
     "metadata": {},
     "output_type": "execute_result"
    }
   ],
   "source": [
    "prediction_analyse(test_dataloader_death, trainer_death)"
   ]
  },
  {
   "cell_type": "markdown",
   "id": "colored-genome",
   "metadata": {},
   "source": [
    "## Only Back Home"
   ]
  },
  {
   "cell_type": "code",
   "execution_count": 26,
   "id": "threaded-surgeon",
   "metadata": {},
   "outputs": [
    {
     "name": "stdout",
     "output_type": "stream",
     "text": [
      "torch.Size([262, 36])\n"
     ]
    }
   ],
   "source": [
    "covid_dataset_home = CovidDataset(data_path, -4)\n",
    "train_dataloader_home, val_dataloader_home, test_dataloader_home = create_dataloaders(covid_dataset_home, batch_size=1, split_proportions=split_proportions)"
   ]
  },
  {
   "cell_type": "code",
   "execution_count": 27,
   "id": "alternate-uncle",
   "metadata": {},
   "outputs": [
    {
     "name": "stdout",
     "output_type": "stream",
     "text": [
      "torch.Size([262, 36])\n",
      "==== Training ====\n",
      "\n",
      "Epoch 1 / 40\n",
      "155/155 [==============================] - 0s 3ms/step - loss: 0.3610 - acc: 0.5347 - lr: 0.1000\n",
      "Validation\n",
      "55/55 [==============================] - 0s 2ms/step - loss: 0.3530 - acc: 0.4942 - lr: 0.1000\n",
      "Model saved. Acc updated: -inf -> 0.400\n",
      "Epoch 2 / 40\n",
      "155/155 [==============================] - 0s 3ms/step - loss: 0.3468 - acc: 0.8166 - lr: 0.1000\n",
      "Validation\n",
      "55/55 [==============================] - 0s 1ms/step - loss: 0.3161 - acc: 0.9333 - lr: 0.1000\n",
      "Model saved. Acc updated: 0.400 -> 0.945\n",
      "Epoch 3 / 40\n",
      "155/155 [==============================] - 0s 3ms/step - loss: 0.3098 - acc: 0.9423 - lr: 0.1000\n",
      "Validation\n",
      "55/55 [==============================] - 0s 1ms/step - loss: 0.2840 - acc: 0.8822 - lr: 0.1000\n",
      "Epoch 4 / 40\n",
      "155/155 [==============================] - 0s 3ms/step - loss: 0.2815 - acc: 0.9361 - lr: 0.1000\n",
      "Validation\n",
      "55/55 [==============================] - 0s 1ms/step - loss: 0.2722 - acc: 0.9260 - lr: 0.1000\n",
      "Epoch 5 / 40\n",
      "155/155 [==============================] - 0s 3ms/step - loss: 0.2783 - acc: 0.9148 - lr: 0.0600\n",
      "Validation\n",
      "55/55 [==============================] - 0s 1ms/step - loss: 0.2716 - acc: 0.9111 - lr: 0.0600\n",
      "Epoch 6 / 40\n",
      "155/155 [==============================] - 0s 3ms/step - loss: 0.2744 - acc: 0.8929 - lr: 0.0600\n",
      "Validation\n",
      "55/55 [==============================] - 0s 2ms/step - loss: 0.2717 - acc: 0.9031 - lr: 0.0600\n",
      "Epoch 7 / 40\n",
      "155/155 [==============================] - 0s 3ms/step - loss: 0.2675 - acc: 0.9314 - lr: 0.0600\n",
      "Validation\n",
      "55/55 [==============================] - 0s 1ms/step - loss: 0.2669 - acc: 0.9443 - lr: 0.0600\n",
      "Epoch 8 / 40\n",
      "155/155 [==============================] - 0s 3ms/step - loss: 0.2687 - acc: 0.9686 - lr: 0.0600\n",
      "Validation\n",
      "55/55 [==============================] - 0s 2ms/step - loss: 0.2595 - acc: 0.9621 - lr: 0.0600\n",
      "Epoch 9 / 40\n",
      "155/155 [==============================] - 0s 3ms/step - loss: 0.2644 - acc: 0.9741 - lr: 0.0600\n",
      "Validation\n",
      "55/55 [==============================] - 0s 1ms/step - loss: 0.2710 - acc: 0.9169 - lr: 0.0600\n",
      "Epoch 10 / 40\n",
      "155/155 [==============================] - 0s 3ms/step - loss: 0.2731 - acc: 0.9335 - lr: 0.0360\n",
      "Validation\n",
      "55/55 [==============================] - 0s 2ms/step - loss: 0.2533 - acc: 0.9798 - lr: 0.0360\n",
      "Epoch 11 / 40\n",
      "155/155 [==============================] - 0s 3ms/step - loss: 0.2668 - acc: 0.9526 - lr: 0.0360\n",
      "Validation\n",
      "55/55 [==============================] - 0s 1ms/step - loss: 0.2663 - acc: 0.9350 - lr: 0.0360\n",
      "Epoch 12 / 40\n",
      "155/155 [==============================] - 0s 3ms/step - loss: 0.2611 - acc: 0.9777 - lr: 0.0360\n",
      "Validation\n",
      "55/55 [==============================] - 0s 1ms/step - loss: 0.2625 - acc: 0.9659 - lr: 0.0360\n",
      "Epoch 13 / 40\n",
      "155/155 [==============================] - 0s 3ms/step - loss: 0.2618 - acc: 0.9809 - lr: 0.0360\n",
      "Validation\n",
      "55/55 [==============================] - 0s 1ms/step - loss: 0.2649 - acc: 0.9147 - lr: 0.0360\n",
      "Epoch 14 / 40\n",
      "155/155 [==============================] - 0s 3ms/step - loss: 0.2650 - acc: 0.9485 - lr: 0.0360\n",
      "Validation\n",
      "55/55 [==============================] - 0s 1ms/step - loss: 0.2685 - acc: 0.9159 - lr: 0.0360\n",
      "Epoch 15 / 40\n",
      "155/155 [==============================] - 0s 3ms/step - loss: 0.2643 - acc: 0.9560 - lr: 0.0216\n",
      "Validation\n",
      "55/55 [==============================] - 0s 1ms/step - loss: 0.2651 - acc: 0.9446 - lr: 0.0216\n",
      "Epoch 16 / 40\n",
      "155/155 [==============================] - 0s 3ms/step - loss: 0.2607 - acc: 0.9547 - lr: 0.0216\n",
      "Validation\n",
      "55/55 [==============================] - 0s 1ms/step - loss: 0.2594 - acc: 0.9592 - lr: 0.0216\n",
      "Epoch 17 / 40\n",
      "155/155 [==============================] - 0s 3ms/step - loss: 0.2664 - acc: 0.9400 - lr: 0.0216\n",
      "Validation\n",
      "55/55 [==============================] - 0s 1ms/step - loss: 0.2548 - acc: 0.9774 - lr: 0.0216\n",
      "Epoch 18 / 40\n",
      "155/155 [==============================] - 0s 3ms/step - loss: 0.2596 - acc: 0.9748 - lr: 0.0216\n",
      "Validation\n",
      "55/55 [==============================] - 0s 1ms/step - loss: 0.2631 - acc: 0.9299 - lr: 0.0216\n",
      "Epoch 19 / 40\n",
      "155/155 [==============================] - 0s 3ms/step - loss: 0.2627 - acc: 0.9555 - lr: 0.0216\n",
      "Validation\n",
      "55/55 [==============================] - 0s 2ms/step - loss: 0.2743 - acc: 0.9168 - lr: 0.0216\n",
      "Epoch 20 / 40\n",
      "155/155 [==============================] - 0s 3ms/step - loss: 0.2597 - acc: 0.9659 - lr: 0.0130\n",
      "Validation\n",
      "55/55 [==============================] - 0s 1ms/step - loss: 0.2608 - acc: 0.9636 - lr: 0.0130\n",
      "Epoch 21 / 40\n",
      "155/155 [==============================] - 0s 3ms/step - loss: 0.2581 - acc: 0.9776 - lr: 0.0130\n",
      "Validation\n",
      "55/55 [==============================] - 0s 1ms/step - loss: 0.2683 - acc: 0.9115 - lr: 0.0130\n",
      "Epoch 22 / 40\n",
      "155/155 [==============================] - 0s 3ms/step - loss: 0.2601 - acc: 0.9837 - lr: 0.0130\n",
      "Validation\n",
      "55/55 [==============================] - 0s 1ms/step - loss: 0.2599 - acc: 0.9709 - lr: 0.0130\n",
      "Epoch 23 / 40\n",
      "155/155 [==============================] - 1s 3ms/step - loss: 0.2631 - acc: 0.9564 - lr: 0.0130\n",
      "Validation\n",
      "55/55 [==============================] - 0s 1ms/step - loss: 0.2704 - acc: 0.9372 - lr: 0.0130\n",
      "Epoch 24 / 40\n",
      "155/155 [==============================] - 1s 3ms/step - loss: 0.2573 - acc: 0.9901 - lr: 0.0130\n",
      "Validation\n",
      "55/55 [==============================] - 0s 1ms/step - loss: 0.2610 - acc: 0.9649 - lr: 0.0130\n",
      "Epoch 25 / 40\n",
      "155/155 [==============================] - 0s 3ms/step - loss: 0.2719 - acc: 0.9305 - lr: 0.0078\n",
      "Validation\n",
      "55/55 [==============================] - 0s 2ms/step - loss: 0.2538 - acc: 0.9863 - lr: 0.0078\n",
      "Epoch 26 / 40\n",
      "155/155 [==============================] - 0s 3ms/step - loss: 0.2643 - acc: 0.9642 - lr: 0.0078\n",
      "Validation\n",
      "55/55 [==============================] - 0s 2ms/step - loss: 0.2571 - acc: 0.9691 - lr: 0.0078\n",
      "Epoch 27 / 40\n",
      "155/155 [==============================] - 0s 3ms/step - loss: 0.2600 - acc: 0.9734 - lr: 0.0078\n",
      "Validation\n",
      "55/55 [==============================] - 0s 1ms/step - loss: 0.2552 - acc: 0.9792 - lr: 0.0078\n",
      "Epoch 28 / 40\n",
      "155/155 [==============================] - 1s 5ms/step - loss: 0.2671 - acc: 0.9442 - lr: 0.0078\n",
      "Validation\n",
      "55/55 [==============================] - 0s 1ms/step - loss: 0.2621 - acc: 0.9490 - lr: 0.0078\n",
      "Epoch 29 / 40\n",
      "155/155 [==============================] - 1s 4ms/step - loss: 0.2578 - acc: 0.9748 - lr: 0.0078\n",
      "Validation\n",
      "55/55 [==============================] - 0s 2ms/step - loss: 0.2707 - acc: 0.9238 - lr: 0.0078\n",
      "Epoch 30 / 40\n",
      "155/155 [==============================] - 0s 3ms/step - loss: 0.2606 - acc: 0.9667 - lr: 0.0047\n",
      "Validation\n",
      "55/55 [==============================] - 0s 1ms/step - loss: 0.2585 - acc: 0.9520 - lr: 0.0047\n",
      "Epoch 31 / 40\n",
      "155/155 [==============================] - 0s 3ms/step - loss: 0.2587 - acc: 0.9766 - lr: 0.0047\n",
      "Validation\n",
      "55/55 [==============================] - 0s 2ms/step - loss: 0.2668 - acc: 0.9410 - lr: 0.0047\n",
      "Epoch 32 / 40\n",
      "155/155 [==============================] - 0s 3ms/step - loss: 0.2592 - acc: 0.9817 - lr: 0.0047\n",
      "Validation\n",
      "55/55 [==============================] - 0s 1ms/step - loss: 0.2550 - acc: 0.9875 - lr: 0.0047\n",
      "Epoch 33 / 40\n",
      "155/155 [==============================] - 1s 3ms/step - loss: 0.2637 - acc: 0.9515 - lr: 0.0047\n",
      "Validation\n",
      "55/55 [==============================] - 0s 1ms/step - loss: 0.2567 - acc: 0.9772 - lr: 0.0047\n",
      "Epoch 34 / 40\n",
      "155/155 [==============================] - 0s 3ms/step - loss: 0.2576 - acc: 0.9810 - lr: 0.0047\n",
      "Validation\n",
      "55/55 [==============================] - 0s 1ms/step - loss: 0.2696 - acc: 0.9165 - lr: 0.0047\n",
      "Epoch 35 / 40\n",
      "155/155 [==============================] - 0s 3ms/step - loss: 0.2581 - acc: 0.9743 - lr: 0.0028\n",
      "Validation\n",
      "55/55 [==============================] - 0s 3ms/step - loss: 0.2596 - acc: 0.9477 - lr: 0.0028\n",
      "Epoch 36 / 40\n",
      "155/155 [==============================] - 0s 3ms/step - loss: 0.2609 - acc: 0.9642 - lr: 0.0028\n",
      "Validation\n",
      "55/55 [==============================] - 0s 1ms/step - loss: 0.2624 - acc: 0.9497 - lr: 0.0028\n",
      "Epoch 37 / 40\n",
      "155/155 [==============================] - 1s 3ms/step - loss: 0.2584 - acc: 0.9805 - lr: 0.0028\n",
      "Validation\n",
      "55/55 [==============================] - 0s 2ms/step - loss: 0.2807 - acc: 0.8840 - lr: 0.0028\n",
      "Epoch 38 / 40\n"
     ]
    },
    {
     "name": "stdout",
     "output_type": "stream",
     "text": [
      "155/155 [==============================] - 0s 3ms/step - loss: 0.2596 - acc: 0.9811 - lr: 0.0028\n",
      "Validation\n",
      "55/55 [==============================] - 0s 1ms/step - loss: 0.2595 - acc: 0.9459 - lr: 0.0028\n",
      "Epoch 39 / 40\n",
      "155/155 [==============================] - 0s 3ms/step - loss: 0.2633 - acc: 0.9616 - lr: 0.0028\n",
      "Validation\n",
      "55/55 [==============================] - 0s 1ms/step - loss: 0.2605 - acc: 0.9595 - lr: 0.0028\n",
      "Epoch 40 / 40\n",
      "155/155 [==============================] - 0s 3ms/step - loss: 0.2607 - acc: 0.9711 - lr: 0.0017\n",
      "Validation\n",
      "55/55 [==============================] - 0s 1ms/step - loss: 0.2544 - acc: 0.9827 - lr: 0.0017\n"
     ]
    }
   ],
   "source": [
    "dataset_home = CovidDataset(data_path, -4)\n",
    "\n",
    "model_home = MLP([36, 512, 512, 512, 2])\n",
    "#print(model_death)\n",
    "#print(list(model.parameters()))\n",
    "\n",
    "trainer_home = Trainer(model_home, dataset_home.class_weights, save_directory, \"home_perceptron.pt\", loss='BCElogits', lr=0.1)\n",
    "trainer_home.fit(train_dataloader_home, val_dataloader_home, nb_epochs=nb_epochs)"
   ]
  },
  {
   "cell_type": "code",
   "execution_count": 28,
   "id": "baking-companion",
   "metadata": {},
   "outputs": [
    {
     "name": "stdout",
     "output_type": "stream",
     "text": [
      "[0.5741935483870968, 0.8387096774193549, 0.9096774193548387, 0.9290322580645162, 0.9225806451612903, 0.9225806451612903, 0.9290322580645162, 0.9612903225806452, 0.9548387096774194, 0.9548387096774194, 0.9548387096774194, 0.9612903225806452, 0.9612903225806452, 0.9612903225806452, 0.9548387096774194, 0.9548387096774194, 0.9612903225806452, 0.9612903225806452, 0.9612903225806452, 0.967741935483871, 0.9612903225806452, 0.967741935483871, 0.9612903225806452, 0.967741935483871, 0.967741935483871, 0.967741935483871, 0.967741935483871, 0.967741935483871, 0.967741935483871, 0.967741935483871, 0.967741935483871, 0.967741935483871, 0.967741935483871, 0.967741935483871, 0.967741935483871, 0.967741935483871, 0.967741935483871, 0.967741935483871, 0.967741935483871, 0.967741935483871]\n"
     ]
    },
    {
     "data": {
      "image/png": "[encoded data removed]",
      "text/plain": [
       "<Figure size 432x432 with 1 Axes>"
      ]
     },
     "metadata": {
      "needs_background": "light"
     },
     "output_type": "display_data"
    }
   ],
   "source": [
    "trainer_home.display_history()"
   ]
  },
  {
   "cell_type": "code",
   "execution_count": 29,
   "id": "communist-classroom",
   "metadata": {},
   "outputs": [
    {
     "name": "stdout",
     "output_type": "stream",
     "text": [
      "==== Evaluate ====\n",
      "\n",
      "Iteration: 52. Loss: 0.2535320818424225. Accuracy: 98.07692307692308. total loss: 13.44316577911377.\n"
     ]
    },
    {
     "data": {
      "text/plain": [
       "98.07692307692308"
      ]
     },
     "execution_count": 29,
     "metadata": {},
     "output_type": "execute_result"
    }
   ],
   "source": [
    "trainer_home.evaluate(test_dataloader_home)"
   ]
  },
  {
   "cell_type": "code",
   "execution_count": 30,
   "id": "transsexual-bankruptcy",
   "metadata": {},
   "outputs": [
    {
     "name": "stdout",
     "output_type": "stream",
     "text": [
      "==== Evaluate ====\n",
      "\n",
      "accuracy 98.07692307692308\n",
      "[0. 1. 0. 1. 1. 1. 1. 0. 0. 0. 0. 0. 1. 0. 1. 1. 0. 1. 0. 0. 1. 1. 0. 1.\n",
      " 0. 0. 0. 1. 0. 1. 1. 0. 0. 1. 1. 0. 1. 1. 0. 1. 0. 1. 1. 0. 1. 1. 1. 1.\n",
      " 1. 0. 1. 1.] [0. 1. 0. 1. 1. 1. 1. 0. 0. 0. 0. 0. 1. 0. 1. 1. 0. 1. 0. 0. 1. 1. 0. 1.\n",
      " 0. 0. 0. 1. 0. 1. 1. 0. 0. 1. 1. 0. 1. 1. 0. 1. 0. 1. 1. 1. 1. 1. 1. 1.\n",
      " 1. 0. 1. 1.]\n"
     ]
    },
    {
     "data": {
      "image/png": "[encoded data removed]",
      "text/plain": [
       "<Figure size 432x288 with 2 Axes>"
      ]
     },
     "metadata": {
      "needs_background": "light"
     },
     "output_type": "display_data"
    },
    {
     "name": "stdout",
     "output_type": "stream",
     "text": [
      "sensitivity : 0.9666666666666667, specificity : 1.0, PPV : 1.0, NPV : 0.9565217391304348\n"
     ]
    },
    {
     "data": {
      "text/plain": [
       "98.07692307692308"
      ]
     },
     "execution_count": 30,
     "metadata": {},
     "output_type": "execute_result"
    }
   ],
   "source": [
    "prediction_analyse(test_dataloader_home, trainer_home)"
   ]
  },
  {
   "cell_type": "markdown",
   "id": "korean-appeal",
   "metadata": {},
   "source": [
    "## Only Hospilised"
   ]
  },
  {
   "cell_type": "code",
   "execution_count": 31,
   "id": "obvious-captain",
   "metadata": {},
   "outputs": [
    {
     "name": "stdout",
     "output_type": "stream",
     "text": [
      "torch.Size([262, 36])\n"
     ]
    }
   ],
   "source": [
    "covid_dataset_hosp = CovidDataset(data_path, -3)\n",
    "train_dataloader_hosp, val_dataloader_hosp, test_dataloader_hosp = create_dataloaders(covid_dataset_hosp, batch_size=1, split_proportions=split_proportions)"
   ]
  },
  {
   "cell_type": "code",
   "execution_count": 32,
   "id": "opposite-combine",
   "metadata": {},
   "outputs": [
    {
     "name": "stdout",
     "output_type": "stream",
     "text": [
      "torch.Size([262, 36])\n",
      "==== Training ====\n",
      "\n",
      "Epoch 1 / 40\n",
      "155/155 [==============================] - 1s 3ms/step - loss: 0.3622 - acc: 0.4855 - lr: 0.1000\n",
      "Validation\n",
      "55/55 [==============================] - 0s 1ms/step - loss: 0.3541 - acc: 0.6842 - lr: 0.1000\n",
      "Model saved. Acc updated: -inf -> 0.745\n",
      "Epoch 2 / 40\n",
      "155/155 [==============================] - 0s 3ms/step - loss: 0.3534 - acc: 0.6192 - lr: 0.1000\n",
      "Validation\n",
      "55/55 [==============================] - 0s 2ms/step - loss: 0.3284 - acc: 0.8833 - lr: 0.1000\n",
      "Model saved. Acc updated: 0.745 -> 0.782\n",
      "Epoch 3 / 40\n",
      "155/155 [==============================] - 1s 3ms/step - loss: 0.3357 - acc: 0.6949 - lr: 0.1000\n",
      "Validation\n",
      "55/55 [==============================] - 0s 2ms/step - loss: 0.3140 - acc: 0.8393 - lr: 0.1000\n",
      "Model saved. Acc updated: 0.782 -> 0.818\n",
      "Epoch 4 / 40\n",
      "155/155 [==============================] - 1s 3ms/step - loss: 0.3094 - acc: 0.8031 - lr: 0.1000\n",
      "Validation\n",
      "55/55 [==============================] - 0s 1ms/step - loss: 0.2931 - acc: 0.9020 - lr: 0.1000\n",
      "Model saved. Acc updated: 0.818 -> 0.873\n",
      "Epoch 5 / 40\n",
      "155/155 [==============================] - 1s 4ms/step - loss: 0.2952 - acc: 0.8647 - lr: 0.0600\n",
      "Validation\n",
      "55/55 [==============================] - 0s 1ms/step - loss: 0.3121 - acc: 0.6698 - lr: 0.0600\n",
      "Epoch 6 / 40\n",
      "155/155 [==============================] - 1s 3ms/step - loss: 0.2940 - acc: 0.8451 - lr: 0.0600\n",
      "Validation\n",
      "55/55 [==============================] - 0s 2ms/step - loss: 0.2935 - acc: 0.8459 - lr: 0.0600\n",
      "Epoch 7 / 40\n",
      "155/155 [==============================] - 1s 3ms/step - loss: 0.2876 - acc: 0.8726 - lr: 0.0600\n",
      "Validation\n",
      "55/55 [==============================] - 0s 1ms/step - loss: 0.2984 - acc: 0.8235 - lr: 0.0600\n",
      "Epoch 8 / 40\n",
      "155/155 [==============================] - 1s 3ms/step - loss: 0.2889 - acc: 0.9010 - lr: 0.0600\n",
      "Validation\n",
      "55/55 [==============================] - 0s 2ms/step - loss: 0.2936 - acc: 0.8671 - lr: 0.0600\n",
      "Epoch 9 / 40\n",
      "155/155 [==============================] - 1s 3ms/step - loss: 0.2863 - acc: 0.8781 - lr: 0.0600\n",
      "Validation\n",
      "55/55 [==============================] - 0s 1ms/step - loss: 0.2951 - acc: 0.8144 - lr: 0.0600\n",
      "Epoch 10 / 40\n",
      "155/155 [==============================] - 0s 3ms/step - loss: 0.2804 - acc: 0.8797 - lr: 0.0360\n",
      "Validation\n",
      "55/55 [==============================] - 0s 1ms/step - loss: 0.2909 - acc: 0.8545 - lr: 0.0360\n",
      "Epoch 11 / 40\n",
      "155/155 [==============================] - 1s 3ms/step - loss: 0.2822 - acc: 0.8984 - lr: 0.0360\n",
      "Validation\n",
      "55/55 [==============================] - 0s 1ms/step - loss: 0.3029 - acc: 0.8464 - lr: 0.0360\n",
      "Epoch 12 / 40\n",
      "155/155 [==============================] - 0s 3ms/step - loss: 0.2816 - acc: 0.8939 - lr: 0.0360\n",
      "Validation\n",
      "55/55 [==============================] - 0s 2ms/step - loss: 0.2859 - acc: 0.8965 - lr: 0.0360\n",
      "Epoch 13 / 40\n",
      "155/155 [==============================] - 1s 3ms/step - loss: 0.2789 - acc: 0.9008 - lr: 0.0360\n",
      "Validation\n",
      "55/55 [==============================] - 0s 1ms/step - loss: 0.2934 - acc: 0.8829 - lr: 0.0360\n",
      "Epoch 14 / 40\n",
      "155/155 [==============================] - 0s 3ms/step - loss: 0.2763 - acc: 0.9099 - lr: 0.0360\n",
      "Validation\n",
      "55/55 [==============================] - 0s 1ms/step - loss: 0.2891 - acc: 0.8501 - lr: 0.0360\n",
      "Epoch 15 / 40\n",
      "155/155 [==============================] - 1s 3ms/step - loss: 0.2758 - acc: 0.9221 - lr: 0.0216\n",
      "Validation\n",
      "55/55 [==============================] - 0s 2ms/step - loss: 0.3096 - acc: 0.7746 - lr: 0.0216\n",
      "Epoch 16 / 40\n",
      "155/155 [==============================] - 1s 3ms/step - loss: 0.2762 - acc: 0.9349 - lr: 0.0216\n",
      "Validation\n",
      "55/55 [==============================] - 0s 2ms/step - loss: 0.2958 - acc: 0.8504 - lr: 0.0216\n",
      "Epoch 17 / 40\n",
      "155/155 [==============================] - 1s 3ms/step - loss: 0.2756 - acc: 0.9442 - lr: 0.0216\n",
      "Validation\n",
      "55/55 [==============================] - 0s 1ms/step - loss: 0.2928 - acc: 0.8488 - lr: 0.0216\n",
      "Epoch 18 / 40\n",
      "155/155 [==============================] - 0s 3ms/step - loss: 0.2828 - acc: 0.8775 - lr: 0.0216\n",
      "Validation\n",
      "55/55 [==============================] - 0s 1ms/step - loss: 0.2863 - acc: 0.8808 - lr: 0.0216\n",
      "Epoch 19 / 40\n",
      "155/155 [==============================] - 1s 3ms/step - loss: 0.2719 - acc: 0.9415 - lr: 0.0216\n",
      "Validation\n",
      "55/55 [==============================] - 0s 1ms/step - loss: 0.2913 - acc: 0.8457 - lr: 0.0216\n",
      "Epoch 20 / 40\n",
      "155/155 [==============================] - 1s 3ms/step - loss: 0.2722 - acc: 0.9288 - lr: 0.0130\n",
      "Validation\n",
      "55/55 [==============================] - 0s 1ms/step - loss: 0.2919 - acc: 0.8726 - lr: 0.0130\n",
      "Epoch 21 / 40\n",
      "155/155 [==============================] - 1s 3ms/step - loss: 0.2742 - acc: 0.9384 - lr: 0.0130\n",
      "Validation\n",
      "55/55 [==============================] - 0s 2ms/step - loss: 0.2898 - acc: 0.8589 - lr: 0.0130\n",
      "Epoch 22 / 40\n",
      "155/155 [==============================] - 0s 3ms/step - loss: 0.2687 - acc: 0.9539 - lr: 0.0130\n",
      "Validation\n",
      "55/55 [==============================] - 0s 1ms/step - loss: 0.2877 - acc: 0.8764 - lr: 0.0130\n",
      "Epoch 23 / 40\n",
      "155/155 [==============================] - 1s 3ms/step - loss: 0.2753 - acc: 0.9352 - lr: 0.0130\n",
      "Validation\n",
      "55/55 [==============================] - 0s 2ms/step - loss: 0.2703 - acc: 0.9416 - lr: 0.0130\n",
      "Epoch 24 / 40\n",
      "155/155 [==============================] - 1s 3ms/step - loss: 0.2755 - acc: 0.9333 - lr: 0.0130\n",
      "Validation\n",
      "55/55 [==============================] - 0s 1ms/step - loss: 0.2743 - acc: 0.9393 - lr: 0.0130\n",
      "Epoch 25 / 40\n",
      "155/155 [==============================] - 1s 3ms/step - loss: 0.2698 - acc: 0.9515 - lr: 0.0078\n",
      "Validation\n",
      "55/55 [==============================] - 0s 1ms/step - loss: 0.3095 - acc: 0.7872 - lr: 0.0078\n",
      "Epoch 26 / 40\n",
      "155/155 [==============================] - 0s 3ms/step - loss: 0.2786 - acc: 0.9029 - lr: 0.0078\n",
      "Validation\n",
      "55/55 [==============================] - 0s 1ms/step - loss: 0.2924 - acc: 0.8883 - lr: 0.0078\n",
      "Epoch 27 / 40\n",
      "155/155 [==============================] - 0s 3ms/step - loss: 0.2716 - acc: 0.9388 - lr: 0.0078\n",
      "Validation\n",
      "55/55 [==============================] - 0s 1ms/step - loss: 0.2942 - acc: 0.8599 - lr: 0.0078\n",
      "Epoch 28 / 40\n",
      "155/155 [==============================] - 0s 3ms/step - loss: 0.2841 - acc: 0.8920 - lr: 0.0078\n",
      "Validation\n",
      "55/55 [==============================] - 0s 1ms/step - loss: 0.3159 - acc: 0.7505 - lr: 0.0078\n",
      "Epoch 29 / 40\n",
      "155/155 [==============================] - 0s 3ms/step - loss: 0.2769 - acc: 0.9184 - lr: 0.0078\n",
      "Validation\n",
      "55/55 [==============================] - 0s 1ms/step - loss: 0.2888 - acc: 0.8644 - lr: 0.0078\n",
      "Epoch 30 / 40\n",
      "155/155 [==============================] - 0s 3ms/step - loss: 0.2779 - acc: 0.9162 - lr: 0.0047\n",
      "Validation\n",
      "55/55 [==============================] - 0s 1ms/step - loss: 0.2967 - acc: 0.8315 - lr: 0.0047\n",
      "Epoch 31 / 40\n",
      "155/155 [==============================] - 0s 3ms/step - loss: 0.2758 - acc: 0.9278 - lr: 0.0047\n",
      "Validation\n",
      "55/55 [==============================] - 0s 1ms/step - loss: 0.2839 - acc: 0.8731 - lr: 0.0047\n",
      "Epoch 32 / 40\n",
      "155/155 [==============================] - 1s 3ms/step - loss: 0.2697 - acc: 0.9455 - lr: 0.0047\n",
      "Validation\n",
      "55/55 [==============================] - 0s 1ms/step - loss: 0.2867 - acc: 0.8605 - lr: 0.0047\n",
      "Epoch 33 / 40\n",
      "155/155 [==============================] - 0s 3ms/step - loss: 0.2707 - acc: 0.9476 - lr: 0.0047\n",
      "Validation\n",
      "55/55 [==============================] - 0s 2ms/step - loss: 0.2985 - acc: 0.8163 - lr: 0.0047\n",
      "Epoch 34 / 40\n",
      "155/155 [==============================] - 0s 3ms/step - loss: 0.2730 - acc: 0.9386 - lr: 0.0047\n",
      "Validation\n",
      "55/55 [==============================] - 0s 1ms/step - loss: 0.3231 - acc: 0.6951 - lr: 0.0047\n",
      "Epoch 35 / 40\n",
      "155/155 [==============================] - 0s 3ms/step - loss: 0.2746 - acc: 0.9261 - lr: 0.0028\n",
      "Validation\n",
      "55/55 [==============================] - 0s 2ms/step - loss: 0.2750 - acc: 0.9290 - lr: 0.0028\n",
      "Epoch 36 / 40\n",
      "155/155 [==============================] - 1s 3ms/step - loss: 0.2686 - acc: 0.9500 - lr: 0.0028\n",
      "Validation\n",
      "55/55 [==============================] - 0s 2ms/step - loss: 0.2909 - acc: 0.8731 - lr: 0.0028\n",
      "Epoch 37 / 40\n",
      "155/155 [==============================] - 1s 3ms/step - loss: 0.2738 - acc: 0.9344 - lr: 0.0028\n",
      "Validation\n"
     ]
    },
    {
     "name": "stdout",
     "output_type": "stream",
     "text": [
      "55/55 [==============================] - 0s 2ms/step - loss: 0.2781 - acc: 0.9081 - lr: 0.0028\n",
      "Epoch 38 / 40\n",
      "155/155 [==============================] - 0s 3ms/step - loss: 0.2684 - acc: 0.9560 - lr: 0.0028\n",
      "Validation\n",
      "55/55 [==============================] - 0s 1ms/step - loss: 0.2874 - acc: 0.8839 - lr: 0.0028\n",
      "Epoch 39 / 40\n",
      "155/155 [==============================] - 0s 3ms/step - loss: 0.2678 - acc: 0.9618 - lr: 0.0028\n",
      "Validation\n",
      "55/55 [==============================] - 0s 1ms/step - loss: 0.2956 - acc: 0.8427 - lr: 0.0028\n",
      "Epoch 40 / 40\n",
      "155/155 [==============================] - 1s 3ms/step - loss: 0.2745 - acc: 0.9207 - lr: 0.0017\n",
      "Validation\n",
      "55/55 [==============================] - 0s 1ms/step - loss: 0.2796 - acc: 0.9036 - lr: 0.0017\n"
     ]
    }
   ],
   "source": [
    "dataset_hosp = CovidDataset(data_path, -3)\n",
    "\n",
    "model_hosp = MLP([36, 512, 512, 512, 2])\n",
    "#print(model_death)\n",
    "#print(list(model.parameters()))\n",
    "\n",
    "trainer_hosp = Trainer(model_hosp, dataset_home.class_weights, save_directory, \"hosp_perceptron.pt\", loss='BCElogits', lr=0.1)\n",
    "trainer_hosp.fit(train_dataloader_hosp, val_dataloader_hosp, nb_epochs=nb_epochs)"
   ]
  },
  {
   "cell_type": "code",
   "execution_count": 33,
   "id": "acute-consumption",
   "metadata": {},
   "outputs": [
    {
     "name": "stdout",
     "output_type": "stream",
     "text": [
      "[0.6, 0.6, 0.7354838709677419, 0.8, 0.8580645161290322, 0.8903225806451613, 0.8838709677419355, 0.8838709677419355, 0.8838709677419355, 0.8774193548387097, 0.896774193548387, 0.8903225806451613, 0.9032258064516129, 0.9032258064516129, 0.9161290322580645, 0.9225806451612903, 0.9225806451612903, 0.9096774193548387, 0.9290322580645162, 0.9161290322580645, 0.9225806451612903, 0.9225806451612903, 0.9290322580645162, 0.9225806451612903, 0.9290322580645162, 0.9290322580645162, 0.9290322580645162, 0.9290322580645162, 0.9290322580645162, 0.9290322580645162, 0.9290322580645162, 0.9290322580645162, 0.9290322580645162, 0.9354838709677419, 0.9290322580645162, 0.9354838709677419, 0.9354838709677419, 0.9354838709677419, 0.9354838709677419, 0.9354838709677419]\n"
     ]
    },
    {
     "data": {
      "image/png": "[encoded data removed]",
      "text/plain": [
       "<Figure size 432x432 with 1 Axes>"
      ]
     },
     "metadata": {
      "needs_background": "light"
     },
     "output_type": "display_data"
    }
   ],
   "source": [
    "trainer_hosp.display_history()"
   ]
  },
  {
   "cell_type": "code",
   "execution_count": 34,
   "id": "prostate-level",
   "metadata": {},
   "outputs": [
    {
     "name": "stdout",
     "output_type": "stream",
     "text": [
      "==== Evaluate ====\n",
      "\n",
      "Iteration: 52. Loss: 0.26260361075401306. Accuracy: 94.23076923076923. total loss: 14.17458438873291.\n"
     ]
    },
    {
     "data": {
      "text/plain": [
       "94.23076923076923"
      ]
     },
     "execution_count": 34,
     "metadata": {},
     "output_type": "execute_result"
    }
   ],
   "source": [
    "trainer_hosp.evaluate(test_dataloader_hosp)"
   ]
  },
  {
   "cell_type": "code",
   "execution_count": 35,
   "id": "original-complexity",
   "metadata": {},
   "outputs": [
    {
     "name": "stdout",
     "output_type": "stream",
     "text": [
      "==== Evaluate ====\n",
      "\n",
      "accuracy 94.23076923076923\n",
      "[0. 1. 0. 0. 1. 1. 1. 0. 1. 0. 1. 1. 1. 0. 0. 0. 0. 0. 0. 0. 0. 1. 0. 0.\n",
      " 0. 1. 1. 0. 1. 1. 1. 0. 0. 0. 0. 1. 0. 0. 0. 1. 1. 0. 0. 0. 1. 1. 0. 1.\n",
      " 0. 0. 1. 0.] [0. 0. 0. 0. 1. 0. 1. 0. 1. 0. 1. 1. 1. 0. 0. 0. 0. 0. 0. 0. 0. 1. 0. 0.\n",
      " 0. 1. 1. 0. 1. 1. 1. 0. 0. 0. 0. 1. 0. 0. 0. 1. 1. 0. 0. 0. 1. 1. 0. 1.\n",
      " 0. 0. 0. 0.]\n"
     ]
    },
    {
     "data": {
      "image/png": "[encoded data removed]",
      "text/plain": [
       "<Figure size 432x288 with 2 Axes>"
      ]
     },
     "metadata": {
      "needs_background": "light"
     },
     "output_type": "display_data"
    },
    {
     "name": "stdout",
     "output_type": "stream",
     "text": [
      "sensitivity : 1.0, specificity : 0.9117647058823529, PPV : 0.8571428571428571, NPV : 1.0\n"
     ]
    },
    {
     "data": {
      "text/plain": [
       "94.23076923076923"
      ]
     },
     "execution_count": 35,
     "metadata": {},
     "output_type": "execute_result"
    }
   ],
   "source": [
    "prediction_analyse(test_dataloader_hosp, trainer_hosp)"
   ]
  },
  {
   "cell_type": "markdown",
   "id": "comparative-locking",
   "metadata": {},
   "source": [
    "## Only ICU"
   ]
  },
  {
   "cell_type": "code",
   "execution_count": 36,
   "id": "treated-vault",
   "metadata": {},
   "outputs": [
    {
     "name": "stdout",
     "output_type": "stream",
     "text": [
      "torch.Size([262, 36])\n"
     ]
    }
   ],
   "source": [
    "covid_dataset_icu = CovidDataset(data_path, -2)\n",
    "train_dataloader_icu, val_dataloader_icu, test_dataloader_icu = create_dataloaders(covid_dataset_icu, batch_size=1, split_proportions=split_proportions)"
   ]
  },
  {
   "cell_type": "code",
   "execution_count": 37,
   "id": "utility-senator",
   "metadata": {},
   "outputs": [
    {
     "name": "stdout",
     "output_type": "stream",
     "text": [
      "torch.Size([262, 36])\n",
      "==== Training ====\n",
      "\n",
      "Epoch 1 / 40\n",
      "155/155 [==============================] - 0s 3ms/step - loss: 0.2478 - acc: 0.9298 - lr: 0.1000\n",
      "Validation\n",
      "55/55 [==============================] - 0s 1ms/step - loss: 0.1969 - acc: 0.9573 - lr: 0.1000\n",
      "Model saved. Acc updated: -inf -> 0.964\n",
      "Epoch 2 / 40\n",
      "155/155 [==============================] - 1s 3ms/step - loss: 0.1946 - acc: 0.9527 - lr: 0.1000\n",
      "Validation\n",
      "55/55 [==============================] - 0s 1ms/step - loss: 0.1769 - acc: 0.9785 - lr: 0.1000\n",
      "Epoch 3 / 40\n",
      "155/155 [==============================] - 0s 3ms/step - loss: 0.1961 - acc: 0.9373 - lr: 0.1000\n",
      "Validation\n",
      "55/55 [==============================] - 0s 1ms/step - loss: 0.1908 - acc: 0.9471 - lr: 0.1000\n",
      "Epoch 4 / 40\n",
      "155/155 [==============================] - 0s 3ms/step - loss: 0.1802 - acc: 0.9688 - lr: 0.1000\n",
      "Validation\n",
      "55/55 [==============================] - 0s 2ms/step - loss: 0.1841 - acc: 0.9605 - lr: 0.1000\n",
      "Epoch 5 / 40\n",
      "155/155 [==============================] - 0s 3ms/step - loss: 0.1867 - acc: 0.9548 - lr: 0.0600\n",
      "Validation\n",
      "55/55 [==============================] - 0s 1ms/step - loss: 0.1709 - acc: 0.9878 - lr: 0.0600\n",
      "Epoch 6 / 40\n",
      "155/155 [==============================] - 0s 3ms/step - loss: 0.1772 - acc: 0.9744 - lr: 0.0600\n",
      "Validation\n",
      "55/55 [==============================] - 0s 1ms/step - loss: 0.1776 - acc: 0.9736 - lr: 0.0600\n",
      "Epoch 7 / 40\n",
      "155/155 [==============================] - 0s 3ms/step - loss: 0.1717 - acc: 0.9859 - lr: 0.0600\n",
      "Validation\n",
      "55/55 [==============================] - 0s 2ms/step - loss: 0.1780 - acc: 0.9726 - lr: 0.0600\n",
      "Epoch 8 / 40\n",
      "155/155 [==============================] - 0s 3ms/step - loss: 0.1866 - acc: 0.9545 - lr: 0.0600\n",
      "Validation\n",
      "55/55 [==============================] - 0s 1ms/step - loss: 0.1986 - acc: 0.9294 - lr: 0.0600\n",
      "Epoch 9 / 40\n",
      "155/155 [==============================] - 0s 3ms/step - loss: 0.1723 - acc: 0.9843 - lr: 0.0600\n",
      "Validation\n",
      "55/55 [==============================] - 0s 1ms/step - loss: 0.1810 - acc: 0.9663 - lr: 0.0600\n",
      "Epoch 10 / 40\n",
      "155/155 [==============================] - 0s 3ms/step - loss: 0.1771 - acc: 0.9743 - lr: 0.0360\n",
      "Validation\n",
      "55/55 [==============================] - 0s 2ms/step - loss: 0.2054 - acc: 0.9151 - lr: 0.0360\n",
      "Epoch 11 / 40\n",
      "155/155 [==============================] - 1s 3ms/step - loss: 0.1869 - acc: 0.9537 - lr: 0.0360\n",
      "Validation\n",
      "55/55 [==============================] - 0s 3ms/step - loss: 0.1982 - acc: 0.9302 - lr: 0.0360\n",
      "Epoch 12 / 40\n",
      "155/155 [==============================] - 0s 3ms/step - loss: 0.1833 - acc: 0.9613 - lr: 0.0360\n",
      "Validation\n",
      "55/55 [==============================] - 0s 1ms/step - loss: 0.1762 - acc: 0.9761 - lr: 0.0360\n",
      "Epoch 13 / 40\n",
      "155/155 [==============================] - 0s 3ms/step - loss: 0.1818 - acc: 0.9643 - lr: 0.0360\n",
      "Validation\n",
      "55/55 [==============================] - 0s 1ms/step - loss: 0.1707 - acc: 0.9875 - lr: 0.0360\n",
      "Epoch 14 / 40\n",
      "155/155 [==============================] - 0s 3ms/step - loss: 0.1801 - acc: 0.9679 - lr: 0.0360\n",
      "Validation\n",
      "55/55 [==============================] - 0s 1ms/step - loss: 0.1761 - acc: 0.9762 - lr: 0.0360\n",
      "Epoch 15 / 40\n",
      "155/155 [==============================] - 0s 3ms/step - loss: 0.1896 - acc: 0.9481 - lr: 0.0216\n",
      "Validation\n",
      "55/55 [==============================] - 0s 1ms/step - loss: 0.1839 - acc: 0.9599 - lr: 0.0216\n",
      "Epoch 16 / 40\n",
      "155/155 [==============================] - 0s 3ms/step - loss: 0.1818 - acc: 0.9645 - lr: 0.0216\n",
      "Validation\n",
      "55/55 [==============================] - 0s 1ms/step - loss: 0.1864 - acc: 0.9548 - lr: 0.0216\n",
      "Epoch 17 / 40\n",
      "155/155 [==============================] - 0s 3ms/step - loss: 0.2067 - acc: 0.9123 - lr: 0.0216\n",
      "Validation\n",
      "55/55 [==============================] - 0s 1ms/step - loss: 0.1750 - acc: 0.9786 - lr: 0.0216\n",
      "Epoch 18 / 40\n",
      "155/155 [==============================] - 1s 3ms/step - loss: 0.1901 - acc: 0.9471 - lr: 0.0216\n",
      "Validation\n",
      "55/55 [==============================] - 0s 1ms/step - loss: 0.1780 - acc: 0.9724 - lr: 0.0216\n",
      "Epoch 19 / 40\n",
      "155/155 [==============================] - 0s 3ms/step - loss: 0.1968 - acc: 0.9331 - lr: 0.0216\n",
      "Validation\n",
      "55/55 [==============================] - 0s 2ms/step - loss: 0.1718 - acc: 0.9852 - lr: 0.0216\n",
      "Epoch 20 / 40\n",
      "155/155 [==============================] - 0s 3ms/step - loss: 0.1768 - acc: 0.9747 - lr: 0.0130\n",
      "Validation\n",
      "55/55 [==============================] - 0s 2ms/step - loss: 0.1787 - acc: 0.9708 - lr: 0.0130\n",
      "Epoch 21 / 40\n",
      "155/155 [==============================] - 0s 3ms/step - loss: 0.2008 - acc: 0.9247 - lr: 0.0130\n",
      "Validation\n",
      "55/55 [==============================] - 0s 2ms/step - loss: 0.1876 - acc: 0.9521 - lr: 0.0130\n",
      "Epoch 22 / 40\n",
      "155/155 [==============================] - 0s 3ms/step - loss: 0.1768 - acc: 0.9747 - lr: 0.0130\n",
      "Validation\n",
      "55/55 [==============================] - 0s 1ms/step - loss: 0.1861 - acc: 0.9553 - lr: 0.0130\n",
      "Epoch 23 / 40\n",
      "155/155 [==============================] - 0s 3ms/step - loss: 0.1919 - acc: 0.9432 - lr: 0.0130\n",
      "Validation\n",
      "55/55 [==============================] - 0s 2ms/step - loss: 0.1947 - acc: 0.9373 - lr: 0.0130\n",
      "Epoch 24 / 40\n",
      "155/155 [==============================] - 1s 3ms/step - loss: 0.1930 - acc: 0.9409 - lr: 0.0130\n",
      "Validation\n",
      "55/55 [==============================] - 0s 1ms/step - loss: 0.1774 - acc: 0.9735 - lr: 0.0130\n",
      "Epoch 25 / 40\n",
      "155/155 [==============================] - 0s 3ms/step - loss: 0.1883 - acc: 0.9508 - lr: 0.0078\n",
      "Validation\n",
      "55/55 [==============================] - 0s 1ms/step - loss: 0.1996 - acc: 0.9270 - lr: 0.0078\n",
      "Epoch 26 / 40\n",
      "155/155 [==============================] - 0s 3ms/step - loss: 0.1830 - acc: 0.9619 - lr: 0.0078\n",
      "Validation\n",
      "55/55 [==============================] - 0s 1ms/step - loss: 0.1819 - acc: 0.9640 - lr: 0.0078\n",
      "Epoch 27 / 40\n",
      "155/155 [==============================] - 0s 3ms/step - loss: 0.1755 - acc: 0.9774 - lr: 0.0078\n",
      "Validation\n",
      "55/55 [==============================] - 0s 1ms/step - loss: 0.1837 - acc: 0.9603 - lr: 0.0078\n",
      "Epoch 28 / 40\n",
      "155/155 [==============================] - 0s 3ms/step - loss: 0.1761 - acc: 0.9762 - lr: 0.0078\n",
      "Validation\n",
      "55/55 [==============================] - 0s 2ms/step - loss: 0.2051 - acc: 0.9157 - lr: 0.0078\n",
      "Epoch 29 / 40\n",
      "155/155 [==============================] - 0s 3ms/step - loss: 0.1788 - acc: 0.9705 - lr: 0.0078\n",
      "Validation\n",
      "55/55 [==============================] - 0s 1ms/step - loss: 0.2064 - acc: 0.9129 - lr: 0.0078\n",
      "Epoch 30 / 40\n",
      "155/155 [==============================] - 0s 3ms/step - loss: 0.1821 - acc: 0.9638 - lr: 0.0047\n",
      "Validation\n",
      "55/55 [==============================] - 0s 2ms/step - loss: 0.1696 - acc: 0.9897 - lr: 0.0047\n",
      "Epoch 31 / 40\n",
      "155/155 [==============================] - 0s 3ms/step - loss: 0.1834 - acc: 0.9610 - lr: 0.0047\n",
      "Validation\n",
      "55/55 [==============================] - 0s 1ms/step - loss: 0.1747 - acc: 0.9791 - lr: 0.0047\n",
      "Epoch 32 / 40\n",
      "155/155 [==============================] - 1s 3ms/step - loss: 0.1796 - acc: 0.9689 - lr: 0.0047\n",
      "Validation\n",
      "55/55 [==============================] - 0s 2ms/step - loss: 0.1754 - acc: 0.9777 - lr: 0.0047\n",
      "Epoch 33 / 40\n",
      "155/155 [==============================] - 1s 3ms/step - loss: 0.1788 - acc: 0.9705 - lr: 0.0047\n",
      "Validation\n",
      "55/55 [==============================] - 0s 1ms/step - loss: 0.1698 - acc: 0.9893 - lr: 0.0047\n",
      "Epoch 34 / 40\n",
      "155/155 [==============================] - 1s 4ms/step - loss: 0.1983 - acc: 0.9299 - lr: 0.0047\n",
      "Validation\n",
      "55/55 [==============================] - 0s 2ms/step - loss: 0.1859 - acc: 0.9557 - lr: 0.0047\n",
      "Epoch 35 / 40\n",
      "155/155 [==============================] - 1s 4ms/step - loss: 0.1934 - acc: 0.9401 - lr: 0.0028\n",
      "Validation\n",
      "55/55 [==============================] - 0s 2ms/step - loss: 0.1780 - acc: 0.9723 - lr: 0.0028\n",
      "Epoch 36 / 40\n",
      "155/155 [==============================] - 1s 4ms/step - loss: 0.1881 - acc: 0.9511 - lr: 0.0028\n",
      "Validation\n",
      "55/55 [==============================] - 0s 3ms/step - loss: 0.1764 - acc: 0.9756 - lr: 0.0028\n",
      "Epoch 37 / 40\n",
      "155/155 [==============================] - 0s 3ms/step - loss: 0.1785 - acc: 0.9712 - lr: 0.0028\n",
      "Validation\n",
      "55/55 [==============================] - 0s 2ms/step - loss: 0.1698 - acc: 0.9894 - lr: 0.0028\n",
      "Epoch 38 / 40\n"
     ]
    },
    {
     "name": "stdout",
     "output_type": "stream",
     "text": [
      "155/155 [==============================] - 1s 4ms/step - loss: 0.1983 - acc: 0.9298 - lr: 0.0028\n",
      "Validation\n",
      "55/55 [==============================] - 0s 1ms/step - loss: 0.1974 - acc: 0.9317 - lr: 0.0028\n",
      "Epoch 39 / 40\n",
      "155/155 [==============================] - 1s 4ms/step - loss: 0.1820 - acc: 0.9639 - lr: 0.0028\n",
      "Validation\n",
      "55/55 [==============================] - 0s 2ms/step - loss: 0.1718 - acc: 0.9853 - lr: 0.0028\n",
      "Epoch 40 / 40\n",
      "155/155 [==============================] - 1s 4ms/step - loss: 0.1843 - acc: 0.9591 - lr: 0.0017\n",
      "Validation\n",
      "55/55 [==============================] - 0s 2ms/step - loss: 0.1686 - acc: 0.9920 - lr: 0.0017\n"
     ]
    }
   ],
   "source": [
    "dataset_icu = CovidDataset(data_path, -2)\n",
    "\n",
    "model_icu = MLP([36, 512, 512, 512, 2])\n",
    "#print(model_death)\n",
    "#print(list(model.parameters()))\n",
    "\n",
    "trainer_icu = Trainer(model_icu, dataset_icu.class_weights, save_directory, \"icu_perceptron.pt\", loss='BCElogits', lr=0.1)\n",
    "trainer_icu.fit(train_dataloader_icu, val_dataloader_icu, nb_epochs=nb_epochs)"
   ]
  },
  {
   "cell_type": "code",
   "execution_count": 38,
   "id": "opponent-bulletin",
   "metadata": {},
   "outputs": [
    {
     "name": "stdout",
     "output_type": "stream",
     "text": [
      "[0.9548387096774194, 0.9548387096774194, 0.9548387096774194, 0.9548387096774194, 0.9548387096774194, 0.9548387096774194, 0.9548387096774194, 0.9548387096774194, 0.9548387096774194, 0.9548387096774194, 0.9548387096774194, 0.9548387096774194, 0.9548387096774194, 0.9548387096774194, 0.9548387096774194, 0.9548387096774194, 0.9548387096774194, 0.9548387096774194, 0.9548387096774194, 0.9548387096774194, 0.9548387096774194, 0.9548387096774194, 0.9548387096774194, 0.9548387096774194, 0.9548387096774194, 0.9548387096774194, 0.9548387096774194, 0.9548387096774194, 0.9548387096774194, 0.9548387096774194, 0.9548387096774194, 0.9548387096774194, 0.9548387096774194, 0.9548387096774194, 0.9548387096774194, 0.9548387096774194, 0.9548387096774194, 0.9548387096774194, 0.9548387096774194, 0.9548387096774194]\n"
     ]
    },
    {
     "data": {
      "image/png": "[encoded data removed]",
      "text/plain": [
       "<Figure size 432x432 with 1 Axes>"
      ]
     },
     "metadata": {
      "needs_background": "light"
     },
     "output_type": "display_data"
    }
   ],
   "source": [
    "trainer_icu.display_history()"
   ]
  },
  {
   "cell_type": "code",
   "execution_count": 39,
   "id": "angry-vitamin",
   "metadata": {},
   "outputs": [
    {
     "name": "stdout",
     "output_type": "stream",
     "text": [
      "==== Evaluate ====\n",
      "\n",
      "Iteration: 52. Loss: 0.16462524235248566. Accuracy: 96.15384615384616. total loss: 9.52150821685791.\n"
     ]
    },
    {
     "data": {
      "text/plain": [
       "96.15384615384616"
      ]
     },
     "execution_count": 39,
     "metadata": {},
     "output_type": "execute_result"
    }
   ],
   "source": [
    "trainer_icu.evaluate(test_dataloader_icu)"
   ]
  },
  {
   "cell_type": "code",
   "execution_count": 40,
   "id": "republican-jordan",
   "metadata": {},
   "outputs": [
    {
     "name": "stdout",
     "output_type": "stream",
     "text": [
      "==== Evaluate ====\n",
      "\n",
      "accuracy 96.15384615384616\n",
      "[0. 0. 0. 0. 0. 0. 0. 0. 0. 0. 0. 0. 0. 0. 0. 0. 0. 0. 0. 0. 0. 0. 0. 0.\n",
      " 0. 0. 0. 0. 0. 0. 0. 0. 0. 0. 0. 0. 0. 0. 0. 0. 0. 0. 0. 0. 0. 0. 0. 0.\n",
      " 0. 0. 0. 0.] [0. 0. 0. 0. 0. 0. 0. 0. 0. 0. 0. 0. 0. 0. 1. 0. 0. 0. 0. 0. 0. 0. 0. 0.\n",
      " 0. 0. 0. 0. 0. 0. 0. 0. 0. 0. 0. 0. 1. 0. 0. 0. 0. 0. 0. 0. 0. 0. 0. 0.\n",
      " 0. 0. 0. 0.]\n"
     ]
    },
    {
     "data": {
      "image/png": "[encoded data removed]",
      "text/plain": [
       "<Figure size 432x288 with 2 Axes>"
      ]
     },
     "metadata": {
      "needs_background": "light"
     },
     "output_type": "display_data"
    },
    {
     "name": "stdout",
     "output_type": "stream",
     "text": [
      "sensitivity : 0.0, specificity : 1.0, PPV : no positives values, NPV : 0.9615384615384616\n"
     ]
    },
    {
     "name": "stderr",
     "output_type": "stream",
     "text": [
      "<ipython-input-6-5b2a7b2f2af9>:37: RuntimeWarning: invalid value encountered in long_scalars\n",
      "  PPV = TP / (TP + FP)\n"
     ]
    },
    {
     "data": {
      "text/plain": [
       "96.15384615384616"
      ]
     },
     "execution_count": 40,
     "metadata": {},
     "output_type": "execute_result"
    }
   ],
   "source": [
    "prediction_analyse(test_dataloader_icu, trainer_icu)"
   ]
  },
  {
   "cell_type": "markdown",
   "id": "accepted-concord",
   "metadata": {},
   "source": [
    "## ICU and death"
   ]
  },
  {
   "cell_type": "code",
   "execution_count": 41,
   "id": "champion-ticket",
   "metadata": {},
   "outputs": [
    {
     "name": "stdout",
     "output_type": "stream",
     "text": [
      "torch.Size([262, 36])\n"
     ]
    }
   ],
   "source": [
    "covid_dataset_icu_death = CovidDataset(data_path, -6)\n",
    "train_dataloader_icu_death, val_dataloader_icu_death, test_dataloader_icu_death = create_dataloaders(covid_dataset_icu_death, batch_size=1, split_proportions=split_proportions)"
   ]
  },
  {
   "cell_type": "code",
   "execution_count": 42,
   "id": "encouraging-rehabilitation",
   "metadata": {},
   "outputs": [
    {
     "name": "stdout",
     "output_type": "stream",
     "text": [
      "torch.Size([262, 36])\n",
      "==== Training ====\n",
      "\n",
      "Epoch 1 / 40\n",
      "155/155 [==============================] - 1s 4ms/step - loss: 0.3534 - acc: 0.6110 - lr: 0.5000\n",
      "Validation\n",
      "55/55 [==============================] - 0s 1ms/step - loss: 0.3513 - acc: 0.6612 - lr: 0.5000\n",
      "Model saved. Acc updated: -inf -> 0.745\n",
      "Epoch 2 / 40\n",
      "155/155 [==============================] - 1s 3ms/step - loss: 0.3562 - acc: 0.5874 - lr: 0.5000\n",
      "Validation\n",
      "55/55 [==============================] - 0s 1ms/step - loss: 0.3477 - acc: 0.7146 - lr: 0.5000\n",
      "Epoch 3 / 40\n",
      "155/155 [==============================] - 0s 3ms/step - loss: 0.3547 - acc: 0.6097 - lr: 0.5000\n",
      "Validation\n",
      "55/55 [==============================] - 0s 2ms/step - loss: 0.3494 - acc: 0.6894 - lr: 0.5000\n",
      "Epoch 4 / 40\n",
      "155/155 [==============================] - 1s 4ms/step - loss: 0.3557 - acc: 0.5953 - lr: 0.5000\n",
      "Validation\n",
      "55/55 [==============================] - 0s 1ms/step - loss: 0.3408 - acc: 0.8179 - lr: 0.5000\n",
      "Epoch 5 / 40\n",
      "155/155 [==============================] - 1s 4ms/step - loss: 0.3578 - acc: 0.5640 - lr: 0.3000\n",
      "Validation\n",
      "55/55 [==============================] - 0s 2ms/step - loss: 0.3514 - acc: 0.6587 - lr: 0.3000\n",
      "Epoch 6 / 40\n",
      "155/155 [==============================] - 1s 4ms/step - loss: 0.3593 - acc: 0.5405 - lr: 0.3000\n",
      "Validation\n",
      "55/55 [==============================] - 0s 2ms/step - loss: 0.3424 - acc: 0.7943 - lr: 0.3000\n",
      "Epoch 7 / 40\n",
      "155/155 [==============================] - 1s 3ms/step - loss: 0.3583 - acc: 0.5561 - lr: 0.3000\n",
      "Validation\n",
      "55/55 [==============================] - 0s 1ms/step - loss: 0.3516 - acc: 0.6559 - lr: 0.3000\n",
      "Epoch 8 / 40\n",
      "155/155 [==============================] - 1s 4ms/step - loss: 0.3547 - acc: 0.6098 - lr: 0.3000\n",
      "Validation\n",
      "55/55 [==============================] - 0s 1ms/step - loss: 0.3487 - acc: 0.7000 - lr: 0.3000\n",
      "Epoch 9 / 40\n",
      "155/155 [==============================] - 1s 4ms/step - loss: 0.3560 - acc: 0.5904 - lr: 0.3000\n",
      "Validation\n",
      "55/55 [==============================] - 0s 2ms/step - loss: 0.3463 - acc: 0.7361 - lr: 0.3000\n",
      "Epoch 10 / 40\n",
      "155/155 [==============================] - 1s 3ms/step - loss: 0.3563 - acc: 0.5852 - lr: 0.1800\n",
      "Validation\n",
      "55/55 [==============================] - 0s 2ms/step - loss: 0.3514 - acc: 0.6592 - lr: 0.1800\n",
      "Epoch 11 / 40\n",
      "155/155 [==============================] - 1s 3ms/step - loss: 0.3578 - acc: 0.5638 - lr: 0.1800\n",
      "Validation\n",
      "55/55 [==============================] - 0s 2ms/step - loss: 0.3497 - acc: 0.6847 - lr: 0.1800\n",
      "Epoch 12 / 40\n",
      "155/155 [==============================] - 0s 3ms/step - loss: 0.3540 - acc: 0.6198 - lr: 0.1800\n",
      "Validation\n",
      "55/55 [==============================] - 0s 1ms/step - loss: 0.3516 - acc: 0.6557 - lr: 0.1800\n",
      "Epoch 13 / 40\n",
      "155/155 [==============================] - 0s 3ms/step - loss: 0.3565 - acc: 0.5824 - lr: 0.1800\n",
      "Validation\n",
      "55/55 [==============================] - 0s 1ms/step - loss: 0.3483 - acc: 0.7060 - lr: 0.1800\n",
      "Epoch 14 / 40\n",
      "155/155 [==============================] - 1s 3ms/step - loss: 0.3587 - acc: 0.5495 - lr: 0.1800\n",
      "Validation\n",
      "55/55 [==============================] - 0s 2ms/step - loss: 0.3455 - acc: 0.7482 - lr: 0.1800\n",
      "Epoch 15 / 40\n",
      "155/155 [==============================] - 1s 3ms/step - loss: 0.3580 - acc: 0.5607 - lr: 0.1080\n",
      "Validation\n",
      "55/55 [==============================] - 0s 1ms/step - loss: 0.3482 - acc: 0.7076 - lr: 0.1080\n",
      "Epoch 16 / 40\n",
      "155/155 [==============================] - 0s 3ms/step - loss: 0.3544 - acc: 0.6145 - lr: 0.1080\n",
      "Validation\n",
      "55/55 [==============================] - 0s 3ms/step - loss: 0.3452 - acc: 0.7519 - lr: 0.1080\n",
      "Epoch 17 / 40\n",
      "155/155 [==============================] - 0s 3ms/step - loss: 0.3537 - acc: 0.6245 - lr: 0.1080\n",
      "Validation\n",
      "55/55 [==============================] - 0s 1ms/step - loss: 0.3441 - acc: 0.7686 - lr: 0.1080\n",
      "Epoch 18 / 40\n",
      "155/155 [==============================] - 0s 3ms/step - loss: 0.3546 - acc: 0.6109 - lr: 0.1080\n",
      "Validation\n",
      "55/55 [==============================] - 0s 1ms/step - loss: 0.3462 - acc: 0.7376 - lr: 0.1080\n",
      "Epoch 19 / 40\n",
      "155/155 [==============================] - 0s 3ms/step - loss: 0.3554 - acc: 0.5996 - lr: 0.1080\n",
      "Validation\n",
      "55/55 [==============================] - 0s 2ms/step - loss: 0.3447 - acc: 0.7602 - lr: 0.1080\n",
      "Epoch 20 / 40\n",
      "155/155 [==============================] - 0s 3ms/step - loss: 0.3575 - acc: 0.5687 - lr: 0.0648\n",
      "Validation\n",
      "55/55 [==============================] - 0s 1ms/step - loss: 0.3438 - acc: 0.7737 - lr: 0.0648\n",
      "Epoch 21 / 40\n",
      "155/155 [==============================] - 0s 3ms/step - loss: 0.3543 - acc: 0.6159 - lr: 0.0648\n",
      "Validation\n",
      "55/55 [==============================] - 0s 1ms/step - loss: 0.3382 - acc: 0.8569 - lr: 0.0648\n",
      "Epoch 22 / 40\n",
      "155/155 [==============================] - 0s 3ms/step - loss: 0.3567 - acc: 0.5805 - lr: 0.0648\n",
      "Validation\n",
      "55/55 [==============================] - 0s 1ms/step - loss: 0.3425 - acc: 0.7932 - lr: 0.0648\n",
      "Epoch 23 / 40\n",
      "155/155 [==============================] - 0s 3ms/step - loss: 0.3568 - acc: 0.5785 - lr: 0.0648\n",
      "Validation\n",
      "55/55 [==============================] - 0s 1ms/step - loss: 0.3461 - acc: 0.7388 - lr: 0.0648\n",
      "Epoch 24 / 40\n",
      "155/155 [==============================] - 0s 3ms/step - loss: 0.3545 - acc: 0.6134 - lr: 0.0648\n",
      "Validation\n",
      "55/55 [==============================] - 0s 1ms/step - loss: 0.3462 - acc: 0.7372 - lr: 0.0648\n",
      "Epoch 25 / 40\n",
      "155/155 [==============================] - 1s 3ms/step - loss: 0.3571 - acc: 0.5739 - lr: 0.0389\n",
      "Validation\n",
      "55/55 [==============================] - 0s 1ms/step - loss: 0.3407 - acc: 0.8190 - lr: 0.0389\n",
      "Epoch 26 / 40\n",
      "155/155 [==============================] - 0s 3ms/step - loss: 0.3542 - acc: 0.6174 - lr: 0.0389\n",
      "Validation\n",
      "55/55 [==============================] - 0s 1ms/step - loss: 0.3469 - acc: 0.7268 - lr: 0.0389\n",
      "Epoch 27 / 40\n",
      "155/155 [==============================] - 0s 3ms/step - loss: 0.3527 - acc: 0.6399 - lr: 0.0389\n",
      "Validation\n",
      "55/55 [==============================] - 0s 1ms/step - loss: 0.3539 - acc: 0.6218 - lr: 0.0389\n",
      "Epoch 28 / 40\n",
      "155/155 [==============================] - 0s 3ms/step - loss: 0.3602 - acc: 0.5270 - lr: 0.0389\n",
      "Validation\n",
      "55/55 [==============================] - 0s 1ms/step - loss: 0.3487 - acc: 0.6997 - lr: 0.0389\n",
      "Epoch 29 / 40\n",
      "155/155 [==============================] - 0s 3ms/step - loss: 0.3520 - acc: 0.6496 - lr: 0.0389\n",
      "Validation\n",
      "55/55 [==============================] - 0s 2ms/step - loss: 0.3510 - acc: 0.6658 - lr: 0.0389\n",
      "Epoch 30 / 40\n",
      "155/155 [==============================] - 0s 3ms/step - loss: 0.3515 - acc: 0.6580 - lr: 0.0233\n",
      "Validation\n",
      "55/55 [==============================] - 0s 2ms/step - loss: 0.3508 - acc: 0.6675 - lr: 0.0233\n",
      "Epoch 31 / 40\n",
      "155/155 [==============================] - 0s 3ms/step - loss: 0.3572 - acc: 0.5718 - lr: 0.0233\n",
      "Validation\n",
      "55/55 [==============================] - 0s 1ms/step - loss: 0.3418 - acc: 0.8028 - lr: 0.0233\n",
      "Epoch 32 / 40\n",
      "155/155 [==============================] - 0s 3ms/step - loss: 0.3541 - acc: 0.6187 - lr: 0.0233\n",
      "Validation\n",
      "55/55 [==============================] - 0s 1ms/step - loss: 0.3499 - acc: 0.6823 - lr: 0.0233\n",
      "Epoch 33 / 40\n",
      "155/155 [==============================] - 0s 3ms/step - loss: 0.3576 - acc: 0.5668 - lr: 0.0233\n",
      "Validation\n",
      "55/55 [==============================] - 0s 1ms/step - loss: 0.3423 - acc: 0.7961 - lr: 0.0233\n",
      "Epoch 34 / 40\n",
      "155/155 [==============================] - 1s 3ms/step - loss: 0.3559 - acc: 0.5924 - lr: 0.0233\n",
      "Validation\n",
      "55/55 [==============================] - 0s 1ms/step - loss: 0.3433 - acc: 0.7809 - lr: 0.0233\n",
      "Epoch 35 / 40\n",
      "155/155 [==============================] - 1s 3ms/step - loss: 0.3552 - acc: 0.6026 - lr: 0.0140\n",
      "Validation\n",
      "55/55 [==============================] - 0s 1ms/step - loss: 0.3518 - acc: 0.6529 - lr: 0.0140\n",
      "Epoch 36 / 40\n",
      "155/155 [==============================] - 1s 3ms/step - loss: 0.3564 - acc: 0.5849 - lr: 0.0140\n",
      "Validation\n",
      "55/55 [==============================] - 0s 1ms/step - loss: 0.3485 - acc: 0.7028 - lr: 0.0140\n",
      "Epoch 37 / 40\n",
      "155/155 [==============================] - 0s 3ms/step - loss: 0.3565 - acc: 0.5835 - lr: 0.0140\n",
      "Validation\n",
      "55/55 [==============================] - 0s 1ms/step - loss: 0.3376 - acc: 0.8663 - lr: 0.0140\n",
      "Epoch 38 / 40\n"
     ]
    },
    {
     "name": "stdout",
     "output_type": "stream",
     "text": [
      "155/155 [==============================] - 0s 3ms/step - loss: 0.3557 - acc: 0.5948 - lr: 0.0140\n",
      "Validation\n",
      "55/55 [==============================] - 0s 1ms/step - loss: 0.3484 - acc: 0.7049 - lr: 0.0140\n",
      "Epoch 39 / 40\n",
      "155/155 [==============================] - 0s 3ms/step - loss: 0.3566 - acc: 0.5817 - lr: 0.0140\n",
      "Validation\n",
      "55/55 [==============================] - 0s 1ms/step - loss: 0.3455 - acc: 0.7477 - lr: 0.0140\n",
      "Epoch 40 / 40\n",
      "155/155 [==============================] - 1s 3ms/step - loss: 0.3535 - acc: 0.6272 - lr: 0.0084\n",
      "Validation\n",
      "55/55 [==============================] - 0s 1ms/step - loss: 0.3390 - acc: 0.8442 - lr: 0.0084\n"
     ]
    }
   ],
   "source": [
    "dataset_icu_death = CovidDataset(data_path, -6)\n",
    "\n",
    "model_icu_death = MLP([36, 512, 512, 512, 2])\n",
    "#print(model_death)\n",
    "#print(list(model.parameters()))\n",
    "\n",
    "trainer_icu_death = Trainer(model_icu_death, dataset_icu_death.class_weights, save_directory, \"icu_death_perceptron.pt\", loss='BCElogits', lr=0.5)\n",
    "trainer_icu_death.fit(train_dataloader_icu_death, val_dataloader_icu_death, nb_epochs=nb_epochs)"
   ]
  },
  {
   "cell_type": "code",
   "execution_count": 43,
   "id": "agricultural-ordinance",
   "metadata": {},
   "outputs": [
    {
     "name": "stdout",
     "output_type": "stream",
     "text": [
      "[0.5806451612903226, 0.5870967741935483, 0.5870967741935483, 0.5870967741935483, 0.5870967741935483, 0.5870967741935483, 0.5870967741935483, 0.5870967741935483, 0.5870967741935483, 0.5870967741935483, 0.5870967741935483, 0.5870967741935483, 0.5870967741935483, 0.5870967741935483, 0.5870967741935483, 0.5870967741935483, 0.5870967741935483, 0.5870967741935483, 0.5870967741935483, 0.5870967741935483, 0.5870967741935483, 0.5870967741935483, 0.5870967741935483, 0.5870967741935483, 0.5870967741935483, 0.5870967741935483, 0.5870967741935483, 0.5870967741935483, 0.5870967741935483, 0.5870967741935483, 0.5870967741935483, 0.5870967741935483, 0.5870967741935483, 0.5870967741935483, 0.5870967741935483, 0.5870967741935483, 0.5870967741935483, 0.5870967741935483, 0.5870967741935483, 0.5870967741935483]\n"
     ]
    },
    {
     "data": {
      "image/png": "[encoded data removed]",
      "text/plain": [
       "<Figure size 432x432 with 1 Axes>"
      ]
     },
     "metadata": {
      "needs_background": "light"
     },
     "output_type": "display_data"
    }
   ],
   "source": [
    "trainer_icu_death.display_history()"
   ]
  },
  {
   "cell_type": "code",
   "execution_count": 44,
   "id": "respiratory-grammar",
   "metadata": {},
   "outputs": [
    {
     "name": "stdout",
     "output_type": "stream",
     "text": [
      "==== Evaluate ====\n",
      "\n",
      "Iteration: 52. Loss: 0.32864153385162354. Accuracy: 65.38461538461539. total loss: 18.29165267944336.\n"
     ]
    },
    {
     "data": {
      "text/plain": [
       "65.38461538461539"
      ]
     },
     "execution_count": 44,
     "metadata": {},
     "output_type": "execute_result"
    }
   ],
   "source": [
    "trainer_icu_death.evaluate(test_dataloader_icu_death)"
   ]
  },
  {
   "cell_type": "code",
   "execution_count": 45,
   "id": "desirable-dubai",
   "metadata": {},
   "outputs": [
    {
     "name": "stdout",
     "output_type": "stream",
     "text": [
      "==== Evaluate ====\n",
      "\n",
      "accuracy 65.38461538461539\n",
      "[0. 0. 0. 0. 0. 0. 0. 0. 0. 0. 0. 0. 0. 0. 0. 0. 0. 0. 0. 0. 0. 0. 0. 0.\n",
      " 0. 0. 0. 0. 0. 0. 0. 0. 0. 0. 0. 0. 0. 0. 0. 0. 0. 0. 0. 0. 0. 0. 0. 0.\n",
      " 0. 0. 0. 0.] [0. 0. 1. 0. 1. 1. 0. 0. 0. 1. 1. 0. 0. 0. 0. 0. 0. 0. 0. 1. 0. 0. 0. 1.\n",
      " 0. 0. 0. 1. 1. 1. 0. 0. 0. 0. 1. 1. 0. 0. 1. 1. 0. 1. 0. 0. 1. 1. 0. 0.\n",
      " 0. 0. 0. 1.]\n"
     ]
    },
    {
     "data": {
      "image/png": "[encoded data removed]",
      "text/plain": [
       "<Figure size 432x288 with 2 Axes>"
      ]
     },
     "metadata": {
      "needs_background": "light"
     },
     "output_type": "display_data"
    },
    {
     "name": "stdout",
     "output_type": "stream",
     "text": [
      "sensitivity : 0.0, specificity : 1.0, PPV : no positives values, NPV : 0.6538461538461539\n"
     ]
    },
    {
     "name": "stderr",
     "output_type": "stream",
     "text": [
      "<ipython-input-6-5b2a7b2f2af9>:37: RuntimeWarning: invalid value encountered in long_scalars\n",
      "  PPV = TP / (TP + FP)\n"
     ]
    },
    {
     "data": {
      "text/plain": [
       "65.38461538461539"
      ]
     },
     "execution_count": 45,
     "metadata": {},
     "output_type": "execute_result"
    }
   ],
   "source": [
    "prediction_analyse(test_dataloader_icu_death, trainer_icu_death)"
   ]
  },
  {
   "cell_type": "markdown",
   "id": "committed-peoples",
   "metadata": {},
   "source": [
    "# Agregate all results"
   ]
  },
  {
   "cell_type": "markdown",
   "id": "responsible-bikini",
   "metadata": {},
   "source": [
    "## Get all predictions"
   ]
  },
  {
   "cell_type": "code",
   "execution_count": 46,
   "id": "killing-hawaiian",
   "metadata": {},
   "outputs": [],
   "source": [
    "dataloaders = [test_dataloader, test_dataloader_death, test_dataloader_home, test_dataloader_hosp, test_dataloader_icu, test_dataloader_icu_death]\n",
    "trainers = [trainer, trainer_death, trainer_home, trainer_hosp, trainer_icu, trainer_icu_death]\n",
    "all_predictions = []\n",
    "all_labels = []\n",
    "\n",
    "for i in range (len(dataloaders)):\n",
    "    _preds, _labels = get_all_predictions(dataloaders[i], trainers[i])\n",
    "    all_predictions.append(_preds)\n",
    "    all_labels.append(_labels)"
   ]
  },
  {
   "cell_type": "markdown",
   "id": "italian-township",
   "metadata": {},
   "source": [
    "### Order : \n",
    "- all labels at once\n",
    "- death only\n",
    "- back home only\n",
    "- Hospitilization only\n",
    "- Icu only\n",
    "- Icu or death "
   ]
  },
  {
   "cell_type": "code",
   "execution_count": 47,
   "id": "historical-battle",
   "metadata": {},
   "outputs": [],
   "source": [
    "agregated_preds = np.array([])\n",
    "for i in range(len(all_predictions[0])):\n",
    "    res = all_predictions[0][i]\n",
    "    index = int(all_predictions[0][i])\n",
    "    if 1 == all_predictions[index + 1][i]:\n",
    "        agregated_preds = np.append(agregated_preds, all_predictions[0][i])\n",
    "    elif 1 == all_predictions[-1][i]:\n",
    "        if 1 == all_predictions[-2][i]:\n",
    "            agregated_preds = np.append(agregated_preds, all_predictions[-2][i])\n",
    "        elif 1 == all_predictions[1][i]:\n",
    "            agregated_preds = np.append(agregated_preds, 0)\n",
    "        else:\n",
    "            agregated_preds = np.append(agregated_preds, all_predictions[0][i])\n",
    "    else:\n",
    "        agregated_preds = np.append(agregated_preds, all_predictions[0][i])\n",
    "        \n",
    "    "
   ]
  },
  {
   "cell_type": "code",
   "execution_count": 48,
   "id": "inappropriate-boston",
   "metadata": {},
   "outputs": [
    {
     "data": {
      "image/png": "[encoded data removed]",
      "text/plain": [
       "<Figure size 432x288 with 2 Axes>"
      ]
     },
     "metadata": {
      "needs_background": "light"
     },
     "output_type": "display_data"
    }
   ],
   "source": [
    "cm = confusion_matrix(all_labels[0], agregated_preds)\n",
    "display = ConfusionMatrixDisplay(confusion_matrix=cm)\n",
    "display.plot()\n",
    "plt.show()"
   ]
  },
  {
   "cell_type": "code",
   "execution_count": 49,
   "id": "indirect-broadway",
   "metadata": {},
   "outputs": [
    {
     "name": "stdout",
     "output_type": "stream",
     "text": [
      "Accuracy: 0.884615\n"
     ]
    },
    {
     "ename": "NameError",
     "evalue": "name 'precision_score' is not defined",
     "output_type": "error",
     "traceback": [
      "\u001b[0;31m---------------------------------------------------------------------------\u001b[0m",
      "\u001b[0;31mNameError\u001b[0m                                 Traceback (most recent call last)",
      "\u001b[0;32m<ipython-input-49-13a21f139cec>\u001b[0m in \u001b[0;36m<module>\u001b[0;34m\u001b[0m\n\u001b[1;32m      3\u001b[0m \u001b[0mprint\u001b[0m\u001b[0;34m(\u001b[0m\u001b[0;34m'Accuracy: %f'\u001b[0m \u001b[0;34m%\u001b[0m \u001b[0maccuracy\u001b[0m\u001b[0;34m)\u001b[0m\u001b[0;34m\u001b[0m\u001b[0;34m\u001b[0m\u001b[0m\n\u001b[1;32m      4\u001b[0m \u001b[0;31m# precision tp / (tp + fp)\u001b[0m\u001b[0;34m\u001b[0m\u001b[0;34m\u001b[0m\u001b[0;34m\u001b[0m\u001b[0m\n\u001b[0;32m----> 5\u001b[0;31m \u001b[0mprecision\u001b[0m \u001b[0;34m=\u001b[0m \u001b[0mprecision_score\u001b[0m\u001b[0;34m(\u001b[0m\u001b[0magregated_preds\u001b[0m\u001b[0;34m,\u001b[0m \u001b[0mall_labels\u001b[0m\u001b[0;34m[\u001b[0m\u001b[0;36m0\u001b[0m\u001b[0;34m]\u001b[0m\u001b[0;34m,\u001b[0m \u001b[0maverage\u001b[0m\u001b[0;34m=\u001b[0m\u001b[0;34m'weighted'\u001b[0m\u001b[0;34m)\u001b[0m\u001b[0;34m\u001b[0m\u001b[0;34m\u001b[0m\u001b[0m\n\u001b[0m\u001b[1;32m      6\u001b[0m \u001b[0mprint\u001b[0m\u001b[0;34m(\u001b[0m\u001b[0;34m'Precision: %f'\u001b[0m \u001b[0;34m%\u001b[0m \u001b[0mprecision\u001b[0m\u001b[0;34m)\u001b[0m\u001b[0;34m\u001b[0m\u001b[0;34m\u001b[0m\u001b[0m\n\u001b[1;32m      7\u001b[0m \u001b[0;31m# recall: tp / (tp + fn)\u001b[0m\u001b[0;34m\u001b[0m\u001b[0;34m\u001b[0m\u001b[0;34m\u001b[0m\u001b[0m\n",
      "\u001b[0;31mNameError\u001b[0m: name 'precision_score' is not defined"
     ]
    }
   ],
   "source": [
    "# accuracy: (tp + tn) / (p + n)\n",
    "accuracy = accuracy_score(agregated_preds, all_labels[0])\n",
    "print('Accuracy: %f' % accuracy)\n",
    "# precision tp / (tp + fp)\n",
    "precision = precision_score(agregated_preds, all_labels[0], average='weighted')\n",
    "print('Precision: %f' % precision)\n",
    "# recall: tp / (tp + fn)\n",
    "recall = recall_score(agregated_preds, all_labels[0], average='weighted')\n",
    "print('Recall: %f' % recall)\n",
    "# f1: 2 tp / (2 tp + fp + fn)\n",
    "f1 = f1_score(agregated_preds, all_labels[0], average='weighted')\n",
    "print('F1 score: %f' % f1)\n"
   ]
  },
  {
   "cell_type": "markdown",
   "id": "separated-promotion",
   "metadata": {},
   "source": [
    "# Test and Save"
   ]
  },
  {
   "cell_type": "code",
   "execution_count": null,
   "id": "hawaiian-demand",
   "metadata": {},
   "outputs": [],
   "source": [
    "test_path = \"data/clean_test_data.csv\"\n",
    "df_test = np.loadtxt(test_path, delimiter=\",\",dtype=float, skiprows=1)"
   ]
  },
  {
   "cell_type": "code",
   "execution_count": null,
   "id": "fabulous-geography",
   "metadata": {},
   "outputs": [],
   "source": [
    "res = pd.DataFrame(data=df_test[:, 0], columns=[\"id\"])\n",
    "res[\"id\"] = res[\"id\"].astype(int)\n",
    "print(df_test.shape)\n",
    "res"
   ]
  },
  {
   "cell_type": "code",
   "execution_count": null,
   "id": "interracial-costume",
   "metadata": {},
   "outputs": [],
   "source": [
    "the_pred = []\n",
    "model.eval()\n",
    "df_test = df_test[:,1:]\n",
    "trainloader = torch.utils.data.DataLoader(df_test, batch_size=1, shuffle=True, num_workers=1)\n",
    "\n",
    "with torch.no_grad():\n",
    "\n",
    "    for i, inputs in enumerate(trainloader):\n",
    "\n",
    "        pred = model(inputs.float())\n",
    "        label = np.argmax(pred[0].detach().numpy())\n",
    "        the_pred.append(label)\n"
   ]
  },
  {
   "cell_type": "code",
   "execution_count": null,
   "id": "senior-hunter",
   "metadata": {},
   "outputs": [],
   "source": [
    "print(the_pred)\n",
    "res['prediction'] = the_pred\n",
    "res['prediction'].replace({0 : \"Death\", 1 : \"Back home\", 2 : 'Hospitalization', 3 : 'Intensive care unit'}, inplace=True)\n",
    "res.to_csv(\"prediction_MLP.csv\", sep=\";\", index=False)"
   ]
  },
  {
   "cell_type": "code",
   "execution_count": null,
   "id": "efficient-scott",
   "metadata": {},
   "outputs": [],
   "source": []
  }
 ],
 "metadata": {
  "kernelspec": {
   "display_name": "Python 3",
   "language": "python",
   "name": "python3"
  },
  "language_info": {
   "codemirror_mode": {
    "name": "ipython",
    "version": 3
   },
   "file_extension": ".py",
   "mimetype": "text/x-python",
   "name": "python",
   "nbconvert_exporter": "python",
   "pygments_lexer": "ipython3",
   "version": "3.9.6"
  }
 },
 "nbformat": 4,
 "nbformat_minor": 5
}
