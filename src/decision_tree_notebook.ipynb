{
 "cells": [
  {
   "cell_type": "code",
   "execution_count": 1,
   "id": "judicial-enclosure",
   "metadata": {},
   "outputs": [],
   "source": [
    "import pandas as pd\n",
    "import numpy as np\n",
    "import os\n",
    "import seaborn as sns\n",
    "import matplotlib.pyplot as plt"
   ]
  },
  {
   "cell_type": "code",
   "execution_count": 2,
   "id": "classified-mitchell",
   "metadata": {},
   "outputs": [],
   "source": [
    "from sklearn.model_selection import train_test_split\n",
    "from sklearn.metrics import accuracy_score, ConfusionMatrixDisplay, confusion_matrix, precision_score, recall_score, f1_score"
   ]
  },
  {
   "cell_type": "code",
   "execution_count": 3,
   "id": "reflected-lafayette",
   "metadata": {},
   "outputs": [],
   "source": [
    "from covidpredictions.DecisionTree import DecisionTree"
   ]
  },
  {
   "cell_type": "markdown",
   "id": "ongoing-sessions",
   "metadata": {},
   "source": [
    "# Data location"
   ]
  },
  {
   "cell_type": "code",
   "execution_count": 4,
   "id": "dutch-comparison",
   "metadata": {},
   "outputs": [],
   "source": [
    "data_path = \"../data/clean_data.csv\"\n",
    "save_directory = \"current_accuracies/decision_tree/decision_tree_saves\""
   ]
  },
  {
   "cell_type": "markdown",
   "id": "atmospheric-berry",
   "metadata": {},
   "source": [
    "# Load data"
   ]
  },
  {
   "cell_type": "code",
   "execution_count": 5,
   "id": "awful-suite",
   "metadata": {},
   "outputs": [],
   "source": [
    "df = pd.read_csv(data_path)"
   ]
  },
  {
   "cell_type": "code",
   "execution_count": 6,
   "id": "polish-stevens",
   "metadata": {},
   "outputs": [
    {
     "data": {
      "text/html": [
       "<div>\n",
       "<style scoped>\n",
       "    .dataframe tbody tr th:only-of-type {\n",
       "        vertical-align: middle;\n",
       "    }\n",
       "\n",
       "    .dataframe tbody tr th {\n",
       "        vertical-align: top;\n",
       "    }\n",
       "\n",
       "    .dataframe thead th {\n",
       "        text-align: right;\n",
       "    }\n",
       "</style>\n",
       "<table border=\"1\" class=\"dataframe\">\n",
       "  <thead>\n",
       "    <tr style=\"text-align: right;\">\n",
       "      <th></th>\n",
       "      <th>id</th>\n",
       "      <th>Nom du centre</th>\n",
       "      <th>age</th>\n",
       "      <th>Sexe</th>\n",
       "      <th>Lieu de provenance du patient</th>\n",
       "      <th>Echographiste</th>\n",
       "      <th>Tabagisme actif</th>\n",
       "      <th>BPCO</th>\n",
       "      <th>Asthme</th>\n",
       "      <th>Autre antecedent respiratoire</th>\n",
       "      <th>...</th>\n",
       "      <th>Zone posterieure gauche haut</th>\n",
       "      <th>Zone posterieure gauche bas</th>\n",
       "      <th>Oxygenotherapie</th>\n",
       "      <th>Outcome J28</th>\n",
       "      <th>Intensive care unit &amp; death2</th>\n",
       "      <th>Death</th>\n",
       "      <th>Back home</th>\n",
       "      <th>Hospitalization</th>\n",
       "      <th>Intensive care unit</th>\n",
       "      <th>Intensive care unit &amp; death</th>\n",
       "    </tr>\n",
       "  </thead>\n",
       "  <tbody>\n",
       "    <tr>\n",
       "      <th>0</th>\n",
       "      <td>1</td>\n",
       "      <td>0</td>\n",
       "      <td>91</td>\n",
       "      <td>1</td>\n",
       "      <td>0</td>\n",
       "      <td>0</td>\n",
       "      <td>0</td>\n",
       "      <td>0</td>\n",
       "      <td>0</td>\n",
       "      <td>0</td>\n",
       "      <td>...</td>\n",
       "      <td>2</td>\n",
       "      <td>2</td>\n",
       "      <td>3</td>\n",
       "      <td>0</td>\n",
       "      <td>1</td>\n",
       "      <td>1</td>\n",
       "      <td>0</td>\n",
       "      <td>0</td>\n",
       "      <td>0</td>\n",
       "      <td>0</td>\n",
       "    </tr>\n",
       "    <tr>\n",
       "      <th>1</th>\n",
       "      <td>109</td>\n",
       "      <td>1</td>\n",
       "      <td>45</td>\n",
       "      <td>0</td>\n",
       "      <td>0</td>\n",
       "      <td>1</td>\n",
       "      <td>0</td>\n",
       "      <td>0</td>\n",
       "      <td>0</td>\n",
       "      <td>0</td>\n",
       "      <td>...</td>\n",
       "      <td>0</td>\n",
       "      <td>0</td>\n",
       "      <td>0</td>\n",
       "      <td>1</td>\n",
       "      <td>1</td>\n",
       "      <td>0</td>\n",
       "      <td>1</td>\n",
       "      <td>0</td>\n",
       "      <td>0</td>\n",
       "      <td>1</td>\n",
       "    </tr>\n",
       "    <tr>\n",
       "      <th>2</th>\n",
       "      <td>46</td>\n",
       "      <td>2</td>\n",
       "      <td>76</td>\n",
       "      <td>0</td>\n",
       "      <td>1</td>\n",
       "      <td>1</td>\n",
       "      <td>0</td>\n",
       "      <td>0</td>\n",
       "      <td>0</td>\n",
       "      <td>0</td>\n",
       "      <td>...</td>\n",
       "      <td>1</td>\n",
       "      <td>2</td>\n",
       "      <td>2</td>\n",
       "      <td>2</td>\n",
       "      <td>2</td>\n",
       "      <td>0</td>\n",
       "      <td>0</td>\n",
       "      <td>1</td>\n",
       "      <td>0</td>\n",
       "      <td>2</td>\n",
       "    </tr>\n",
       "    <tr>\n",
       "      <th>3</th>\n",
       "      <td>247</td>\n",
       "      <td>1</td>\n",
       "      <td>55</td>\n",
       "      <td>0</td>\n",
       "      <td>2</td>\n",
       "      <td>1</td>\n",
       "      <td>1</td>\n",
       "      <td>0</td>\n",
       "      <td>0</td>\n",
       "      <td>0</td>\n",
       "      <td>...</td>\n",
       "      <td>0</td>\n",
       "      <td>0</td>\n",
       "      <td>3</td>\n",
       "      <td>1</td>\n",
       "      <td>1</td>\n",
       "      <td>0</td>\n",
       "      <td>1</td>\n",
       "      <td>0</td>\n",
       "      <td>0</td>\n",
       "      <td>1</td>\n",
       "    </tr>\n",
       "    <tr>\n",
       "      <th>4</th>\n",
       "      <td>195</td>\n",
       "      <td>1</td>\n",
       "      <td>42</td>\n",
       "      <td>0</td>\n",
       "      <td>0</td>\n",
       "      <td>1</td>\n",
       "      <td>0</td>\n",
       "      <td>0</td>\n",
       "      <td>0</td>\n",
       "      <td>0</td>\n",
       "      <td>...</td>\n",
       "      <td>0</td>\n",
       "      <td>0</td>\n",
       "      <td>3</td>\n",
       "      <td>1</td>\n",
       "      <td>1</td>\n",
       "      <td>0</td>\n",
       "      <td>1</td>\n",
       "      <td>0</td>\n",
       "      <td>0</td>\n",
       "      <td>1</td>\n",
       "    </tr>\n",
       "    <tr>\n",
       "      <th>...</th>\n",
       "      <td>...</td>\n",
       "      <td>...</td>\n",
       "      <td>...</td>\n",
       "      <td>...</td>\n",
       "      <td>...</td>\n",
       "      <td>...</td>\n",
       "      <td>...</td>\n",
       "      <td>...</td>\n",
       "      <td>...</td>\n",
       "      <td>...</td>\n",
       "      <td>...</td>\n",
       "      <td>...</td>\n",
       "      <td>...</td>\n",
       "      <td>...</td>\n",
       "      <td>...</td>\n",
       "      <td>...</td>\n",
       "      <td>...</td>\n",
       "      <td>...</td>\n",
       "      <td>...</td>\n",
       "      <td>...</td>\n",
       "      <td>...</td>\n",
       "    </tr>\n",
       "    <tr>\n",
       "      <th>257</th>\n",
       "      <td>218</td>\n",
       "      <td>0</td>\n",
       "      <td>34</td>\n",
       "      <td>1</td>\n",
       "      <td>0</td>\n",
       "      <td>0</td>\n",
       "      <td>1</td>\n",
       "      <td>0</td>\n",
       "      <td>0</td>\n",
       "      <td>0</td>\n",
       "      <td>...</td>\n",
       "      <td>0</td>\n",
       "      <td>0</td>\n",
       "      <td>3</td>\n",
       "      <td>1</td>\n",
       "      <td>1</td>\n",
       "      <td>0</td>\n",
       "      <td>1</td>\n",
       "      <td>0</td>\n",
       "      <td>0</td>\n",
       "      <td>1</td>\n",
       "    </tr>\n",
       "    <tr>\n",
       "      <th>258</th>\n",
       "      <td>199</td>\n",
       "      <td>2</td>\n",
       "      <td>58</td>\n",
       "      <td>0</td>\n",
       "      <td>0</td>\n",
       "      <td>1</td>\n",
       "      <td>0</td>\n",
       "      <td>0</td>\n",
       "      <td>0</td>\n",
       "      <td>0</td>\n",
       "      <td>...</td>\n",
       "      <td>0</td>\n",
       "      <td>1</td>\n",
       "      <td>2</td>\n",
       "      <td>2</td>\n",
       "      <td>2</td>\n",
       "      <td>0</td>\n",
       "      <td>0</td>\n",
       "      <td>1</td>\n",
       "      <td>0</td>\n",
       "      <td>2</td>\n",
       "    </tr>\n",
       "    <tr>\n",
       "      <th>259</th>\n",
       "      <td>117</td>\n",
       "      <td>0</td>\n",
       "      <td>45</td>\n",
       "      <td>0</td>\n",
       "      <td>0</td>\n",
       "      <td>2</td>\n",
       "      <td>0</td>\n",
       "      <td>0</td>\n",
       "      <td>0</td>\n",
       "      <td>0</td>\n",
       "      <td>...</td>\n",
       "      <td>0</td>\n",
       "      <td>0</td>\n",
       "      <td>3</td>\n",
       "      <td>1</td>\n",
       "      <td>1</td>\n",
       "      <td>0</td>\n",
       "      <td>1</td>\n",
       "      <td>0</td>\n",
       "      <td>0</td>\n",
       "      <td>1</td>\n",
       "    </tr>\n",
       "    <tr>\n",
       "      <th>260</th>\n",
       "      <td>201</td>\n",
       "      <td>0</td>\n",
       "      <td>46</td>\n",
       "      <td>0</td>\n",
       "      <td>0</td>\n",
       "      <td>2</td>\n",
       "      <td>0</td>\n",
       "      <td>0</td>\n",
       "      <td>0</td>\n",
       "      <td>0</td>\n",
       "      <td>...</td>\n",
       "      <td>0</td>\n",
       "      <td>0</td>\n",
       "      <td>3</td>\n",
       "      <td>1</td>\n",
       "      <td>1</td>\n",
       "      <td>0</td>\n",
       "      <td>1</td>\n",
       "      <td>0</td>\n",
       "      <td>0</td>\n",
       "      <td>1</td>\n",
       "    </tr>\n",
       "    <tr>\n",
       "      <th>261</th>\n",
       "      <td>69</td>\n",
       "      <td>4</td>\n",
       "      <td>79</td>\n",
       "      <td>0</td>\n",
       "      <td>0</td>\n",
       "      <td>1</td>\n",
       "      <td>0</td>\n",
       "      <td>0</td>\n",
       "      <td>0</td>\n",
       "      <td>0</td>\n",
       "      <td>...</td>\n",
       "      <td>3</td>\n",
       "      <td>2</td>\n",
       "      <td>3</td>\n",
       "      <td>0</td>\n",
       "      <td>1</td>\n",
       "      <td>1</td>\n",
       "      <td>0</td>\n",
       "      <td>0</td>\n",
       "      <td>0</td>\n",
       "      <td>0</td>\n",
       "    </tr>\n",
       "  </tbody>\n",
       "</table>\n",
       "<p>262 rows × 44 columns</p>\n",
       "</div>"
      ],
      "text/plain": [
       "      id  Nom du centre  age  Sexe  Lieu de provenance du patient  \\\n",
       "0      1              0   91     1                              0   \n",
       "1    109              1   45     0                              0   \n",
       "2     46              2   76     0                              1   \n",
       "3    247              1   55     0                              2   \n",
       "4    195              1   42     0                              0   \n",
       "..   ...            ...  ...   ...                            ...   \n",
       "257  218              0   34     1                              0   \n",
       "258  199              2   58     0                              0   \n",
       "259  117              0   45     0                              0   \n",
       "260  201              0   46     0                              0   \n",
       "261   69              4   79     0                              0   \n",
       "\n",
       "     Echographiste  Tabagisme actif  BPCO  Asthme  \\\n",
       "0                0                0     0       0   \n",
       "1                1                0     0       0   \n",
       "2                1                0     0       0   \n",
       "3                1                1     0       0   \n",
       "4                1                0     0       0   \n",
       "..             ...              ...   ...     ...   \n",
       "257              0                1     0       0   \n",
       "258              1                0     0       0   \n",
       "259              2                0     0       0   \n",
       "260              2                0     0       0   \n",
       "261              1                0     0       0   \n",
       "\n",
       "     Autre antecedent respiratoire  ...  Zone posterieure gauche haut  \\\n",
       "0                                0  ...                             2   \n",
       "1                                0  ...                             0   \n",
       "2                                0  ...                             1   \n",
       "3                                0  ...                             0   \n",
       "4                                0  ...                             0   \n",
       "..                             ...  ...                           ...   \n",
       "257                              0  ...                             0   \n",
       "258                              0  ...                             0   \n",
       "259                              0  ...                             0   \n",
       "260                              0  ...                             0   \n",
       "261                              0  ...                             3   \n",
       "\n",
       "     Zone posterieure gauche bas  Oxygenotherapie  Outcome J28  \\\n",
       "0                              2                3            0   \n",
       "1                              0                0            1   \n",
       "2                              2                2            2   \n",
       "3                              0                3            1   \n",
       "4                              0                3            1   \n",
       "..                           ...              ...          ...   \n",
       "257                            0                3            1   \n",
       "258                            1                2            2   \n",
       "259                            0                3            1   \n",
       "260                            0                3            1   \n",
       "261                            2                3            0   \n",
       "\n",
       "     Intensive care unit & death2  Death  Back home  Hospitalization  \\\n",
       "0                               1      1          0                0   \n",
       "1                               1      0          1                0   \n",
       "2                               2      0          0                1   \n",
       "3                               1      0          1                0   \n",
       "4                               1      0          1                0   \n",
       "..                            ...    ...        ...              ...   \n",
       "257                             1      0          1                0   \n",
       "258                             2      0          0                1   \n",
       "259                             1      0          1                0   \n",
       "260                             1      0          1                0   \n",
       "261                             1      1          0                0   \n",
       "\n",
       "     Intensive care unit  Intensive care unit & death  \n",
       "0                      0                            0  \n",
       "1                      0                            1  \n",
       "2                      0                            2  \n",
       "3                      0                            1  \n",
       "4                      0                            1  \n",
       "..                   ...                          ...  \n",
       "257                    0                            1  \n",
       "258                    0                            2  \n",
       "259                    0                            1  \n",
       "260                    0                            1  \n",
       "261                    0                            0  \n",
       "\n",
       "[262 rows x 44 columns]"
      ]
     },
     "execution_count": 6,
     "metadata": {},
     "output_type": "execute_result"
    }
   ],
   "source": [
    "df"
   ]
  },
  {
   "cell_type": "code",
   "execution_count": 7,
   "id": "stuffed-congo",
   "metadata": {
    "scrolled": true
   },
   "outputs": [
    {
     "data": {
      "text/plain": [
       "(262, 44)"
      ]
     },
     "execution_count": 7,
     "metadata": {},
     "output_type": "execute_result"
    }
   ],
   "source": [
    "df.shape"
   ]
  },
  {
   "cell_type": "code",
   "execution_count": 8,
   "id": "abroad-colonial",
   "metadata": {},
   "outputs": [
    {
     "data": {
      "text/plain": [
       "Index(['id', 'Nom du centre', 'age', 'Sexe', 'Lieu de provenance du patient',\n",
       "       'Echographiste', 'Tabagisme actif', 'BPCO', 'Asthme',\n",
       "       'Autre antecedent respiratoire', 'Hypertension arterielle',\n",
       "       'Cardiopathie ischemique', 'Cardiopathie rythmique',\n",
       "       'Diabete de type 1', 'Diabete de type 2', 'Diabetes',\n",
       "       'Cancer  hemopathie maligne', 'Demence', 'Statut immunodeprime',\n",
       "       'AINS au long cours (dans le cadre d'une pathologie suivie)',\n",
       "       'AINS ponctuel recent (cadre des symptomatologies COVID-19 suspect avere)',\n",
       "       'Tension arterielle systolique (mmHg)',\n",
       "       'Tension arterielle diastolique (mmHg)',\n",
       "       'Frequence cardiaque (puls. min)', 'Frequence respiratoire (resp. min)',\n",
       "       'Temperature (Celsius)', 'Confusion', 'Saturation O2',\n",
       "       'Zone anterieure droite haut', 'Zone anterieure droite bas',\n",
       "       'Zone anterieure gauche haut', 'Zone anterieure gauche bas',\n",
       "       'Zone posterieure droite haut', 'Zone posterieure droite bas',\n",
       "       'Zone posterieure gauche haut', 'Zone posterieure gauche bas',\n",
       "       'Oxygenotherapie', 'Outcome J28', 'Intensive care unit & death2',\n",
       "       'Death', 'Back home', 'Hospitalization', 'Intensive care unit',\n",
       "       'Intensive care unit & death'],\n",
       "      dtype='object')"
      ]
     },
     "execution_count": 8,
     "metadata": {},
     "output_type": "execute_result"
    }
   ],
   "source": [
    "(df.columns)"
   ]
  },
  {
   "cell_type": "code",
   "execution_count": 9,
   "id": "hearing-airfare",
   "metadata": {
    "scrolled": false
   },
   "outputs": [
    {
     "data": {
      "text/plain": [
       "Index(['Nom du centre', 'age', 'Sexe', 'Lieu de provenance du patient',\n",
       "       'Echographiste', 'Tabagisme actif', 'BPCO', 'Asthme',\n",
       "       'Autre antecedent respiratoire', 'Hypertension arterielle',\n",
       "       'Cardiopathie ischemique', 'Cardiopathie rythmique',\n",
       "       'Diabete de type 1', 'Diabete de type 2', 'Diabetes',\n",
       "       'Cancer  hemopathie maligne', 'Demence', 'Statut immunodeprime',\n",
       "       'AINS au long cours (dans le cadre d'une pathologie suivie)',\n",
       "       'AINS ponctuel recent (cadre des symptomatologies COVID-19 suspect avere)',\n",
       "       'Tension arterielle systolique (mmHg)',\n",
       "       'Tension arterielle diastolique (mmHg)',\n",
       "       'Frequence cardiaque (puls. min)', 'Frequence respiratoire (resp. min)',\n",
       "       'Temperature (Celsius)', 'Confusion', 'Saturation O2',\n",
       "       'Zone anterieure droite haut', 'Zone anterieure droite bas',\n",
       "       'Zone anterieure gauche haut', 'Zone anterieure gauche bas',\n",
       "       'Zone posterieure droite haut', 'Zone posterieure droite bas',\n",
       "       'Zone posterieure gauche haut', 'Zone posterieure gauche bas',\n",
       "       'Oxygenotherapie', 'Outcome J28'],\n",
       "      dtype='object')"
      ]
     },
     "execution_count": 9,
     "metadata": {},
     "output_type": "execute_result"
    }
   ],
   "source": [
    "df.iloc[:, 1: -6].columns"
   ]
  },
  {
   "cell_type": "code",
   "execution_count": 10,
   "id": "sunrise-sunday",
   "metadata": {},
   "outputs": [
    {
     "data": {
      "text/plain": [
       "Index(['Outcome J28', 'Intensive care unit & death2', 'Death', 'Back home',\n",
       "       'Hospitalization', 'Intensive care unit',\n",
       "       'Intensive care unit & death'],\n",
       "      dtype='object')"
      ]
     },
     "execution_count": 10,
     "metadata": {},
     "output_type": "execute_result"
    }
   ],
   "source": [
    "df.iloc[:, -7:].columns"
   ]
  },
  {
   "cell_type": "code",
   "execution_count": 11,
   "id": "related-kelly",
   "metadata": {
    "scrolled": true
   },
   "outputs": [
    {
     "name": "stdout",
     "output_type": "stream",
     "text": [
      "37 1\n"
     ]
    }
   ],
   "source": [
    "print(df.iloc[:, 1: -6].shape[1], df.iloc[:, -6: -5].shape[1])"
   ]
  },
  {
   "cell_type": "markdown",
   "id": "thrown-appliance",
   "metadata": {},
   "source": [
    "# Split data set into train, validation and test"
   ]
  },
  {
   "cell_type": "code",
   "execution_count": 12,
   "id": "sticky-interest",
   "metadata": {
    "scrolled": false
   },
   "outputs": [
    {
     "name": "stdout",
     "output_type": "stream",
     "text": [
      "(262, 6)\n",
      "(262, 37)\n",
      "(157, 37)\n",
      "(157, 6)\n",
      "(105, 37)\n",
      "(105, 6)\n"
     ]
    }
   ],
   "source": [
    "data = np.loadtxt(data_path, delimiter=\",\",dtype=float, skiprows=1)\n",
    "col_names = np.genfromtxt(data_path , delimiter=',', names=True, dtype=float).dtype.names\n",
    "x_col_names = col_names[1:-6]\n",
    "y_col_names = col_names[-6:]\n",
    "\n",
    "X = data[:, 1:-6]\n",
    "Y = data[:, -6:]\n",
    "\n",
    "\n",
    "X_train, X_test, Y_train, Y_test = train_test_split(X, Y, test_size=.4, random_state=42)\n",
    "print(Y.shape)\n",
    "print(X.shape)\n",
    "print(X_train.shape)\n",
    "print(Y_train.shape)\n",
    "print(X_test.shape)\n",
    "print(Y_test.shape)"
   ]
  },
  {
   "cell_type": "code",
   "execution_count": 13,
   "id": "frequent-worse",
   "metadata": {},
   "outputs": [
    {
     "name": "stdout",
     "output_type": "stream",
     "text": [
      "37\n",
      "6\n"
     ]
    }
   ],
   "source": [
    "print(len(x_col_names))\n",
    "print(len(y_col_names))"
   ]
  },
  {
   "cell_type": "markdown",
   "id": "marked-stuff",
   "metadata": {},
   "source": [
    "# Depth"
   ]
  },
  {
   "cell_type": "code",
   "execution_count": 14,
   "id": "bridal-bobby",
   "metadata": {},
   "outputs": [],
   "source": [
    "DEPTH=7"
   ]
  },
  {
   "cell_type": "markdown",
   "id": "worth-mother",
   "metadata": {},
   "source": [
    "# Train and test"
   ]
  },
  {
   "cell_type": "code",
   "execution_count": null,
   "id": "extreme-warning",
   "metadata": {},
   "outputs": [],
   "source": []
  },
  {
   "cell_type": "code",
   "execution_count": 15,
   "id": "congressional-folks",
   "metadata": {
    "scrolled": false
   },
   "outputs": [
    {
     "name": "stdout",
     "output_type": "stream",
     "text": [
      "\u001b[6;30;41m\u001b[1m  Intensive_care_unit__death2   \u001b[0m\u001b[0m\n",
      "\n",
      "\u001b[6;30;43m Decision tree fit and display  \u001b[0m\n",
      "|--- Outcome_J28 <= 1.0 value 1.0\n",
      "|---|--- Outcome_J28 = 2.0 value 2.0 else 1.0\n",
      "\n",
      "\u001b[6;30;43m              Test              \u001b[0m\n",
      "accuracy ==> 1.0\n"
     ]
    },
    {
     "data": {
      "image/png": "[encoded data removed]",
      "text/plain": [
       "<Figure size 432x288 with 2 Axes>"
      ]
     },
     "metadata": {
      "needs_background": "light"
     },
     "output_type": "display_data"
    },
    {
     "name": "stdout",
     "output_type": "stream",
     "text": [
      "\n",
      "\n",
      "\n",
      "\n",
      "\u001b[6;30;41m\u001b[1m             Death              \u001b[0m\u001b[0m\n",
      "\n",
      "\u001b[6;30;43m Decision tree fit and display  \u001b[0m\n",
      "|--- Frequence_respiratoire_resp_min <= 30.0 value 0.0\n",
      "|---|--- Zone_anterieure_droite_haut <= 1.0 value 0.0 else 1.0\n",
      "\n",
      "\u001b[6;30;43m              Test              \u001b[0m\n",
      "accuracy ==> 0.9714285714285714\n"
     ]
    },
    {
     "data": {
      "image/png": "[encoded data removed]",
      "text/plain": [
       "<Figure size 432x288 with 2 Axes>"
      ]
     },
     "metadata": {
      "needs_background": "light"
     },
     "output_type": "display_data"
    },
    {
     "name": "stdout",
     "output_type": "stream",
     "text": [
      "\n",
      "\n",
      "\n",
      "\n",
      "\u001b[6;30;41m\u001b[1m           Back_home            \u001b[0m\u001b[0m\n",
      "\n",
      "\u001b[6;30;43m Decision tree fit and display  \u001b[0m\n",
      "|--- Outcome_J28 <= 1.0 else  0.0\n",
      "|---|--- Outcome_J28 = 0.0 value 0.0 else 1.0\n",
      "\n",
      "\u001b[6;30;43m              Test              \u001b[0m\n",
      "accuracy ==> 1.0\n"
     ]
    },
    {
     "data": {
      "image/png": "[encoded data removed]",
      "text/plain": [
       "<Figure size 432x288 with 2 Axes>"
      ]
     },
     "metadata": {
      "needs_background": "light"
     },
     "output_type": "display_data"
    },
    {
     "name": "stdout",
     "output_type": "stream",
     "text": [
      "\n",
      "\n",
      "\n",
      "\n",
      "\u001b[6;30;41m\u001b[1m        Hospitalization         \u001b[0m\u001b[0m\n",
      "\n",
      "\u001b[6;30;43m Decision tree fit and display  \u001b[0m\n",
      "|--- Outcome_J28 <= 1.0 value 0.0\n",
      "|---|--- Outcome_J28 = 2.0 value 1.0 else 0.0\n",
      "\n",
      "\u001b[6;30;43m              Test              \u001b[0m\n",
      "accuracy ==> 1.0\n"
     ]
    },
    {
     "data": {
      "image/png": "[encoded data removed]",
      "text/plain": [
       "<Figure size 432x288 with 2 Axes>"
      ]
     },
     "metadata": {
      "needs_background": "light"
     },
     "output_type": "display_data"
    },
    {
     "name": "stdout",
     "output_type": "stream",
     "text": [
      "\n",
      "\n",
      "\n",
      "\n",
      "\u001b[6;30;41m\u001b[1m      Intensive_care_unit       \u001b[0m\u001b[0m\n",
      "\n",
      "\u001b[6;30;43m Decision tree fit and display  \u001b[0m\n",
      "|--- Outcome_J28 <= 2.0 value 0.0 else 1.0\n",
      "\n",
      "\u001b[6;30;43m              Test              \u001b[0m\n",
      "accuracy ==> 1.0\n"
     ]
    },
    {
     "data": {
      "image/png": "[encoded data removed]",
      "text/plain": [
       "<Figure size 432x288 with 2 Axes>"
      ]
     },
     "metadata": {
      "needs_background": "light"
     },
     "output_type": "display_data"
    },
    {
     "name": "stdout",
     "output_type": "stream",
     "text": [
      "\n",
      "\n",
      "\n",
      "\n",
      "\u001b[6;30;41m\u001b[1m   Intensive_care_unit__death   \u001b[0m\u001b[0m\n",
      "\n",
      "\u001b[6;30;43m Decision tree fit and display  \u001b[0m\n",
      "|--- Outcome_J28 <= 1.0 else  2.0\n",
      "|---|--- Outcome_J28 = 0.0 value 0.0 else 1.0\n",
      "\n",
      "\u001b[6;30;43m              Test              \u001b[0m\n",
      "accuracy ==> 1.0\n"
     ]
    },
    {
     "data": {
      "image/png": "[encoded data removed]",
      "text/plain": [
       "<Figure size 432x288 with 2 Axes>"
      ]
     },
     "metadata": {
      "needs_background": "light"
     },
     "output_type": "display_data"
    },
    {
     "name": "stdout",
     "output_type": "stream",
     "text": [
      "\n",
      "\n",
      "\n",
      "\n",
      "\u001b[6;30;42m Mean accuracy of all labels :  \u001b[0m 0.9952380952380953\n"
     ]
    }
   ],
   "source": [
    "total_accuracy = 0\n",
    "decision_trees = []\n",
    "for i, column in enumerate(y_col_names):\n",
    "    print(\"\\x1b[6;30;41m\\033[1m\", column.center(30), \"\\x1b[0m\\033[0m\\n\")\n",
    "    i = i - 6\n",
    "    if i == -1:\n",
    "        Y = data[:, i:]\n",
    "    else:\n",
    "        Y = data[:, i:(i+1)]\n",
    "    \n",
    "    X_train, X_test, Y_train, Y_test = train_test_split(X, Y, test_size=.4, random_state=42)\n",
    "   \n",
    "    print(\"\\x1b[6;30;43m\", \"Decision tree fit and display\".center(30), \"\\x1b[0m\")\n",
    "    decision_tree = DecisionTree(max_depth=DEPTH)\n",
    "    decision_tree.fit(X_train, Y_train, x_col_names=x_col_names)\n",
    "    decision_tree.pretty_print()\n",
    "    decision_tree.save_tree(os.path.join(save_directory, f'decision_tree_{column}'))\n",
    "    decision_trees.append(decision_tree)\n",
    "    \n",
    "    print(\"\\n\\x1b[6;30;43m\", \"Test\".center(30),\"\\x1b[0m\")\n",
    "    \n",
    "    total_accuracy += decision_tree.prediction_analyse(X_test, Y_test)\n",
    "    print(\"\\n\\n\\n\")\n",
    "\n",
    "print(\"\\x1b[6;30;42m\", \"Mean accuracy of all labels :\".center(30), \"\\x1b[0m\", total_accuracy / len(y_col_names))"
   ]
  },
  {
   "cell_type": "code",
   "execution_count": 16,
   "id": "lesbian-clear",
   "metadata": {},
   "outputs": [
    {
     "data": {
      "text/plain": [
       "('Intensive_care_unit__death2',\n",
       " 'Death',\n",
       " 'Back_home',\n",
       " 'Hospitalization',\n",
       " 'Intensive_care_unit',\n",
       " 'Intensive_care_unit__death')"
      ]
     },
     "execution_count": 16,
     "metadata": {},
     "output_type": "execute_result"
    }
   ],
   "source": [
    "y_col_names"
   ]
  },
  {
   "cell_type": "markdown",
   "id": "sharp-shepherd",
   "metadata": {},
   "source": [
    "# Evaluation on one human"
   ]
  },
  {
   "cell_type": "code",
   "execution_count": 17,
   "id": "laughing-enhancement",
   "metadata": {
    "scrolled": false
   },
   "outputs": [
    {
     "name": "stdout",
     "output_type": "stream",
     "text": [
      "\n",
      "\u001b[6;30;41m\u001b[1m  Intensive_care_unit__death2   \u001b[0m\u001b[0m\n",
      "\n",
      "Outcome_J28 : \u001b[0;30;47m\u001b[1m1.0\u001b[0m\u001b[0m <= 1.0\n",
      "\u001b[6;30;42mValue :\u001b[0m 1.0\n",
      "\n",
      "\u001b[6;30;41m\u001b[1m             Death              \u001b[0m\u001b[0m\n",
      "\n",
      "Outcome_J28 : \u001b[0;30;47m\u001b[1m1.0\u001b[0m\u001b[0m <= 1.0\n",
      "Frequence_respiratoire_resp_min : \u001b[0;30;47m\u001b[1m25.0\u001b[0m\u001b[0m <= 30.0\n",
      "\u001b[6;30;42mValue :\u001b[0m 0.0\n",
      "\n",
      "\u001b[6;30;41m\u001b[1m           Back_home            \u001b[0m\u001b[0m\n",
      "\n",
      "Outcome_J28 : \u001b[0;30;47m\u001b[1m1.0\u001b[0m\u001b[0m <= 1.0\n",
      "Frequence_respiratoire_resp_min : \u001b[0;30;47m\u001b[1m25.0\u001b[0m\u001b[0m <= 30.0\n",
      "Outcome_J28 : \u001b[0;30;47m\u001b[1m1.0\u001b[0m\u001b[0m <= 1.0\n",
      "Outcome_J28 : \u001b[0;30;47m\u001b[1m1.0\u001b[0m\u001b[0m != 0.0\n",
      "\u001b[6;30;42mValue :\u001b[0m 1.0\n",
      "\n",
      "\u001b[6;30;41m\u001b[1m        Hospitalization         \u001b[0m\u001b[0m\n",
      "\n",
      "Outcome_J28 : \u001b[0;30;47m\u001b[1m1.0\u001b[0m\u001b[0m <= 1.0\n",
      "Frequence_respiratoire_resp_min : \u001b[0;30;47m\u001b[1m25.0\u001b[0m\u001b[0m <= 30.0\n",
      "Outcome_J28 : \u001b[0;30;47m\u001b[1m1.0\u001b[0m\u001b[0m <= 1.0\n",
      "Outcome_J28 : \u001b[0;30;47m\u001b[1m1.0\u001b[0m\u001b[0m != 0.0\n",
      "Outcome_J28 : \u001b[0;30;47m\u001b[1m1.0\u001b[0m\u001b[0m <= 1.0\n",
      "\u001b[6;30;42mValue :\u001b[0m 0.0\n",
      "\n",
      "\u001b[6;30;41m\u001b[1m      Intensive_care_unit       \u001b[0m\u001b[0m\n",
      "\n",
      "Outcome_J28 : \u001b[0;30;47m\u001b[1m1.0\u001b[0m\u001b[0m <= 1.0\n",
      "Frequence_respiratoire_resp_min : \u001b[0;30;47m\u001b[1m25.0\u001b[0m\u001b[0m <= 30.0\n",
      "Outcome_J28 : \u001b[0;30;47m\u001b[1m1.0\u001b[0m\u001b[0m <= 1.0\n",
      "Outcome_J28 : \u001b[0;30;47m\u001b[1m1.0\u001b[0m\u001b[0m != 0.0\n",
      "Outcome_J28 : \u001b[0;30;47m\u001b[1m1.0\u001b[0m\u001b[0m <= 1.0\n",
      "Outcome_J28 : \u001b[0;30;47m\u001b[1m1.0\u001b[0m\u001b[0m <= 2.0\n",
      "\u001b[6;30;42mValue :\u001b[0m 0.0\n",
      "\n",
      "\u001b[6;30;41m\u001b[1m   Intensive_care_unit__death   \u001b[0m\u001b[0m\n",
      "\n",
      "Outcome_J28 : \u001b[0;30;47m\u001b[1m1.0\u001b[0m\u001b[0m <= 1.0\n",
      "Frequence_respiratoire_resp_min : \u001b[0;30;47m\u001b[1m25.0\u001b[0m\u001b[0m <= 30.0\n",
      "Outcome_J28 : \u001b[0;30;47m\u001b[1m1.0\u001b[0m\u001b[0m <= 1.0\n",
      "Outcome_J28 : \u001b[0;30;47m\u001b[1m1.0\u001b[0m\u001b[0m != 0.0\n",
      "Outcome_J28 : \u001b[0;30;47m\u001b[1m1.0\u001b[0m\u001b[0m <= 1.0\n",
      "Outcome_J28 : \u001b[0;30;47m\u001b[1m1.0\u001b[0m\u001b[0m <= 2.0\n",
      "Outcome_J28 : \u001b[0;30;47m\u001b[1m1.0\u001b[0m\u001b[0m <= 1.0\n",
      "Outcome_J28 : \u001b[0;30;47m\u001b[1m1.0\u001b[0m\u001b[0m != 0.0\n",
      "\u001b[6;30;42mValue :\u001b[0m 1.0\n",
      "preds [0.0, 1.0, 0.0, 0.0] , pred outcome :  1.0 , pred trees :  1 low_classes :  1.0\n",
      "definitive prediction 1.0 label :  [1.]\n"
     ]
    }
   ],
   "source": [
    "preds = []\n",
    "for i, column in enumerate(y_col_names):\n",
    "    i = i - 6\n",
    "    if i == -1:\n",
    "        Y = data[:, i:]\n",
    "    else:\n",
    "        Y = data[:, i:(i+1)]\n",
    "    X = data[:, 1:-6]\n",
    "    \n",
    "    X_train, X_test, Y_train, Y_test = train_test_split(X, Y, test_size=.4, random_state=42)\n",
    "    print(\"\\n\\x1b[6;30;41m\\033[1m\", column.center(30), \"\\x1b[0m\\033[0m\\n\")\n",
    "    _, pred = decision_trees[i].predict_one_element(X_test[2], display_evaluation_flow=True)\n",
    "    label = Y_test[2]\n",
    "    \n",
    "    if i == -6:\n",
    "        out = pred\n",
    "    elif i == -1:\n",
    "        low_classes = pred\n",
    "    else:\n",
    "        preds.append(pred)\n",
    "\n",
    "trees = np.argmax(preds)\n",
    "print('preds', preds, \", pred outcome : \", out, \", pred trees : \", trees, \"low_classes : \", low_classes)\n",
    "\n",
    "if out == trees:\n",
    "        definitive = out\n",
    "else:\n",
    "    if trees == 0 and low_classes == trees:\n",
    "        definitive = trees\n",
    "    elif (trees == 1 or trees == 2) and low_classes == 1:\n",
    "        definitive = trees\n",
    "    elif trees == 3 and low_classes == 2:\n",
    "        definitive = trees\n",
    "    else:\n",
    "        definitive = out\n",
    "        \n",
    "\n",
    "print(\"definitive prediction\", definitive, \"label : \", label)\n"
   ]
  },
  {
   "cell_type": "markdown",
   "id": "alternate-consumption",
   "metadata": {},
   "source": [
    "# Get all predictions"
   ]
  },
  {
   "cell_type": "code",
   "execution_count": 18,
   "id": "medical-silver",
   "metadata": {},
   "outputs": [
    {
     "data": {
      "image/png": "[encoded data removed]",
      "text/plain": [
       "<Figure size 432x288 with 2 Axes>"
      ]
     },
     "metadata": {
      "needs_background": "light"
     },
     "output_type": "display_data"
    },
    {
     "name": "stdout",
     "output_type": "stream",
     "text": [
      "Accuracy: 0.961905\n",
      "Precision: 0.927273\n",
      "Recall: 0.961905\n",
      "F1 score: 0.943764\n"
     ]
    },
    {
     "name": "stderr",
     "output_type": "stream",
     "text": [
      "/home/ines/.local/lib/python3.9/site-packages/sklearn/metrics/_classification.py:1308: UndefinedMetricWarning: Precision is ill-defined and being set to 0.0 in labels with no predicted samples. Use `zero_division` parameter to control this behavior.\n",
      "  _warn_prf(average, modifier, msg_start, len(result))\n"
     ]
    }
   ],
   "source": [
    "total_acc = 0\n",
    "all_preds = []\n",
    "all_labels = []\n",
    "for patient in range(len(X_test)):\n",
    "    preds = []\n",
    "    for i, column in enumerate(y_col_names):\n",
    "        i = i - 6\n",
    "        if i == -1:\n",
    "            Y = data[:, i:]\n",
    "        else:\n",
    "            Y = data[:, i:(i+1)]\n",
    "        X = data[:, 1:-6]\n",
    "\n",
    "        X_train, X_test, Y_train, Y_test = train_test_split(X, Y, test_size=.4, random_state=42)\n",
    "        _, pred = decision_trees[i].predict_one_element(X_test[patient], display_evaluation_flow=False)\n",
    "        label = Y_test[patient]\n",
    "\n",
    "        if i == -6:\n",
    "            out = pred\n",
    "        elif i == -1:\n",
    "            low_classes = pred\n",
    "        else:\n",
    "            preds.append(pred)\n",
    "\n",
    "    trees = np.argmax(preds)\n",
    "\n",
    "    if out == trees:\n",
    "        definitive = out\n",
    "    else:\n",
    "        if trees == 0 and low_classes == trees:\n",
    "            definitive = trees\n",
    "        elif (trees == 1 or trees == 2) and low_classes == 1:\n",
    "            definitive = trees\n",
    "        elif trees == 3 and low_classes == 2:\n",
    "            definitive = trees\n",
    "        else:\n",
    "            definitive = out\n",
    "\n",
    "    all_labels.append(label)\n",
    "    all_preds.append(definitive)\n",
    "    \n",
    "cm = confusion_matrix(all_preds, all_labels)\n",
    "display = ConfusionMatrixDisplay(confusion_matrix=cm)\n",
    "display.plot()\n",
    "plt.show()\n",
    "\n",
    "# accuracy: (tp + tn) / (p + n)\n",
    "accuracy = accuracy_score(all_preds, all_labels)\n",
    "print('Accuracy: %f' % accuracy)\n",
    "# precision tp / (tp + fp)\n",
    "precision = precision_score(all_preds, all_labels, average='weighted')\n",
    "print('Precision: %f' % precision)\n",
    "# recall: tp / (tp + fn)\n",
    "recall = recall_score(all_preds, all_labels, average='weighted')\n",
    "print('Recall: %f' % recall)\n",
    "# f1: 2 tp / (2 tp + fp + fn)\n",
    "f1 = f1_score(all_preds, all_labels, average='weighted')\n",
    "print('F1 score: %f' % f1)"
   ]
  },
  {
   "cell_type": "markdown",
   "id": "painted-fight",
   "metadata": {},
   "source": [
    "# Predict and make submission"
   ]
  },
  {
   "cell_type": "markdown",
   "id": "fiscal-geology",
   "metadata": {},
   "source": [
    "## Load tests"
   ]
  },
  {
   "cell_type": "code",
   "execution_count": 19,
   "id": "further-reform",
   "metadata": {},
   "outputs": [],
   "source": [
    "test_path = \"../data/clean_test_data.csv\""
   ]
  },
  {
   "cell_type": "code",
   "execution_count": 20,
   "id": "changing-russia",
   "metadata": {},
   "outputs": [],
   "source": [
    "df_test = np.loadtxt(test_path, delimiter=\",\",dtype=float, skiprows=1)"
   ]
  },
  {
   "cell_type": "code",
   "execution_count": 21,
   "id": "structural-complaint",
   "metadata": {},
   "outputs": [
    {
     "name": "stdout",
     "output_type": "stream",
     "text": [
      "(66, 37)\n"
     ]
    },
    {
     "data": {
      "text/plain": [
       "array([[237.,   1.,  39., ...,   0.,   0.,   3.],\n",
       "       [236.,   1.,  42., ...,   0.,   0.,   3.],\n",
       "       [253.,   2.,  70., ...,   1.,   1.,   0.],\n",
       "       ...,\n",
       "       [313.,   1.,  63., ...,   0.,   0.,   3.],\n",
       "       [134.,   0.,  66., ...,   0.,   0.,   0.],\n",
       "       [105.,   0.,  63., ...,   0.,   0.,   3.]])"
      ]
     },
     "execution_count": 21,
     "metadata": {},
     "output_type": "execute_result"
    }
   ],
   "source": [
    "print(df_test.shape)\n",
    "df_test"
   ]
  },
  {
   "cell_type": "code",
   "execution_count": 22,
   "id": "broadband-above",
   "metadata": {
    "scrolled": true
   },
   "outputs": [
    {
     "name": "stdout",
     "output_type": "stream",
     "text": [
      "(66, 37)\n"
     ]
    },
    {
     "data": {
      "text/html": [
       "<div>\n",
       "<style scoped>\n",
       "    .dataframe tbody tr th:only-of-type {\n",
       "        vertical-align: middle;\n",
       "    }\n",
       "\n",
       "    .dataframe tbody tr th {\n",
       "        vertical-align: top;\n",
       "    }\n",
       "\n",
       "    .dataframe thead th {\n",
       "        text-align: right;\n",
       "    }\n",
       "</style>\n",
       "<table border=\"1\" class=\"dataframe\">\n",
       "  <thead>\n",
       "    <tr style=\"text-align: right;\">\n",
       "      <th></th>\n",
       "      <th>id</th>\n",
       "    </tr>\n",
       "  </thead>\n",
       "  <tbody>\n",
       "    <tr>\n",
       "      <th>0</th>\n",
       "      <td>237</td>\n",
       "    </tr>\n",
       "    <tr>\n",
       "      <th>1</th>\n",
       "      <td>236</td>\n",
       "    </tr>\n",
       "    <tr>\n",
       "      <th>2</th>\n",
       "      <td>253</td>\n",
       "    </tr>\n",
       "    <tr>\n",
       "      <th>3</th>\n",
       "      <td>92</td>\n",
       "    </tr>\n",
       "    <tr>\n",
       "      <th>4</th>\n",
       "      <td>53</td>\n",
       "    </tr>\n",
       "    <tr>\n",
       "      <th>...</th>\n",
       "      <td>...</td>\n",
       "    </tr>\n",
       "    <tr>\n",
       "      <th>61</th>\n",
       "      <td>151</td>\n",
       "    </tr>\n",
       "    <tr>\n",
       "      <th>62</th>\n",
       "      <td>39</td>\n",
       "    </tr>\n",
       "    <tr>\n",
       "      <th>63</th>\n",
       "      <td>313</td>\n",
       "    </tr>\n",
       "    <tr>\n",
       "      <th>64</th>\n",
       "      <td>134</td>\n",
       "    </tr>\n",
       "    <tr>\n",
       "      <th>65</th>\n",
       "      <td>105</td>\n",
       "    </tr>\n",
       "  </tbody>\n",
       "</table>\n",
       "<p>66 rows × 1 columns</p>\n",
       "</div>"
      ],
      "text/plain": [
       "     id\n",
       "0   237\n",
       "1   236\n",
       "2   253\n",
       "3    92\n",
       "4    53\n",
       "..  ...\n",
       "61  151\n",
       "62   39\n",
       "63  313\n",
       "64  134\n",
       "65  105\n",
       "\n",
       "[66 rows x 1 columns]"
      ]
     },
     "execution_count": 22,
     "metadata": {},
     "output_type": "execute_result"
    }
   ],
   "source": [
    "res = pd.DataFrame(data=df_test[:, 0], columns=[\"id\"])\n",
    "res[\"id\"] = res[\"id\"].astype(int)\n",
    "print(df_test.shape)\n",
    "res"
   ]
  },
  {
   "cell_type": "code",
   "execution_count": 23,
   "id": "adjacent-solomon",
   "metadata": {},
   "outputs": [],
   "source": [
    "X = df_test[:, 1:]"
   ]
  },
  {
   "cell_type": "code",
   "execution_count": 24,
   "id": "operational-provincial",
   "metadata": {},
   "outputs": [],
   "source": [
    "all_preds = []\n",
    "for patient in range(len(X)):\n",
    "    preds = []\n",
    "    for i, column in enumerate(y_col_names):\n",
    "        i = i - 6\n",
    "        if i == -1:\n",
    "            Y = data[:, i:]\n",
    "        else:\n",
    "            Y = data[:, i:(i+1)]\n",
    "        X = data[:, 1:-6]\n",
    "\n",
    "        _, pred = decision_trees[i].predict_one_element(X[patient], display_evaluation_flow=False)\n",
    "\n",
    "        if i == -6:\n",
    "            out = pred\n",
    "        elif i == -1:\n",
    "            low_classes = pred\n",
    "        else:\n",
    "            preds.append(pred)\n",
    "\n",
    "    trees = np.argmax(preds)\n",
    "    \n",
    "    if out == trees:\n",
    "        definitive = out\n",
    "    else:\n",
    "        if trees == 0 and low_classes == trees:\n",
    "            definitive = trees\n",
    "        elif (trees == 1 or trees == 2) and low_classes == 1:\n",
    "            definitive = trees\n",
    "        elif trees == 3 and low_classes == 2:\n",
    "            definitive = trees\n",
    "        else:\n",
    "            definitive = out\n",
    "\n",
    "    all_preds.append(definitive)"
   ]
  },
  {
   "cell_type": "code",
   "execution_count": 25,
   "id": "swiss-arctic",
   "metadata": {},
   "outputs": [],
   "source": [
    "res['prediction'] = all_preds\n",
    "res['prediction'].replace({0 : \"Death\", 1 : \"Back home\", 2 : 'Hospitalization', 3 : 'Intensive care unit'}, inplace=True)"
   ]
  },
  {
   "cell_type": "code",
   "execution_count": 26,
   "id": "warming-participation",
   "metadata": {
    "scrolled": true
   },
   "outputs": [],
   "source": [
    "res.to_csv(\"../prediction_decision_tree.csv\", sep=\";\", index=False)"
   ]
  },
  {
   "cell_type": "code",
   "execution_count": 27,
   "id": "dynamic-outline",
   "metadata": {},
   "outputs": [
    {
     "data": {
      "text/html": [
       "<div>\n",
       "<style scoped>\n",
       "    .dataframe tbody tr th:only-of-type {\n",
       "        vertical-align: middle;\n",
       "    }\n",
       "\n",
       "    .dataframe tbody tr th {\n",
       "        vertical-align: top;\n",
       "    }\n",
       "\n",
       "    .dataframe thead th {\n",
       "        text-align: right;\n",
       "    }\n",
       "</style>\n",
       "<table border=\"1\" class=\"dataframe\">\n",
       "  <thead>\n",
       "    <tr style=\"text-align: right;\">\n",
       "      <th></th>\n",
       "      <th>id</th>\n",
       "      <th>prediction</th>\n",
       "    </tr>\n",
       "  </thead>\n",
       "  <tbody>\n",
       "    <tr>\n",
       "      <th>0</th>\n",
       "      <td>237</td>\n",
       "      <td>Death</td>\n",
       "    </tr>\n",
       "    <tr>\n",
       "      <th>1</th>\n",
       "      <td>236</td>\n",
       "      <td>Back home</td>\n",
       "    </tr>\n",
       "    <tr>\n",
       "      <th>2</th>\n",
       "      <td>253</td>\n",
       "      <td>Hospitalization</td>\n",
       "    </tr>\n",
       "    <tr>\n",
       "      <th>3</th>\n",
       "      <td>92</td>\n",
       "      <td>Back home</td>\n",
       "    </tr>\n",
       "    <tr>\n",
       "      <th>4</th>\n",
       "      <td>53</td>\n",
       "      <td>Back home</td>\n",
       "    </tr>\n",
       "    <tr>\n",
       "      <th>...</th>\n",
       "      <td>...</td>\n",
       "      <td>...</td>\n",
       "    </tr>\n",
       "    <tr>\n",
       "      <th>61</th>\n",
       "      <td>151</td>\n",
       "      <td>Back home</td>\n",
       "    </tr>\n",
       "    <tr>\n",
       "      <th>62</th>\n",
       "      <td>39</td>\n",
       "      <td>Back home</td>\n",
       "    </tr>\n",
       "    <tr>\n",
       "      <th>63</th>\n",
       "      <td>313</td>\n",
       "      <td>Back home</td>\n",
       "    </tr>\n",
       "    <tr>\n",
       "      <th>64</th>\n",
       "      <td>134</td>\n",
       "      <td>Back home</td>\n",
       "    </tr>\n",
       "    <tr>\n",
       "      <th>65</th>\n",
       "      <td>105</td>\n",
       "      <td>Hospitalization</td>\n",
       "    </tr>\n",
       "  </tbody>\n",
       "</table>\n",
       "<p>66 rows × 2 columns</p>\n",
       "</div>"
      ],
      "text/plain": [
       "     id       prediction\n",
       "0   237            Death\n",
       "1   236        Back home\n",
       "2   253  Hospitalization\n",
       "3    92        Back home\n",
       "4    53        Back home\n",
       "..  ...              ...\n",
       "61  151        Back home\n",
       "62   39        Back home\n",
       "63  313        Back home\n",
       "64  134        Back home\n",
       "65  105  Hospitalization\n",
       "\n",
       "[66 rows x 2 columns]"
      ]
     },
     "execution_count": 27,
     "metadata": {},
     "output_type": "execute_result"
    }
   ],
   "source": [
    "res"
   ]
  }
 ],
 "metadata": {
  "interpreter": {
   "hash": "7b0737d0a982cf1e153ab6f44678ad7b5c1fe4b0e39dee0b0c44985cb0da0854"
  },
  "kernelspec": {
   "display_name": "Python 3",
   "language": "python",
   "name": "python3"
  },
  "language_info": {
   "codemirror_mode": {
    "name": "ipython",
    "version": 3
   },
   "file_extension": ".py",
   "mimetype": "text/x-python",
   "name": "python",
   "nbconvert_exporter": "python",
   "pygments_lexer": "ipython3",
   "version": "3.9.6"
  }
 },
 "nbformat": 4,
 "nbformat_minor": 5
}
